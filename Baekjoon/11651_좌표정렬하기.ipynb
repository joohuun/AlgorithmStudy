{
 "cells": [
  {
   "cell_type": "markdown",
   "metadata": {},
   "source": [
    "11651번 좌표 정렬하기2\n",
    "- https://www.acmicpc.net/problem/11651\n",
    "\n",
    "문제\n",
    "- 2차원 평면 위의 점 N개가 주어진다. 좌표를 y좌표가 증가하는 순으로, y좌표가 같으면 x좌표가 증가하는 순서로 정렬한 다음 출력하는 프로그램을 작성하시오.\n",
    "\n",
    "입력\n",
    "- 첫째 줄에 점의 개수 N (1 ≤ N ≤ 100,000)이 주어진다. 둘째 줄부터 N개의 줄에는 i번점의 위치 xi와 yi가 주어진다. (-100,000 ≤ xi, yi ≤ 100,000) 좌표는 항상 정수이고, 위치가 같은 두 점은 없다.\n",
    "\n",
    "출력\n",
    "- 첫째 줄부터 N개의 줄에 점을 정렬한 결과를 출력한다.\n",
    "\n",
    "예제 입력 및 출력\n",
    "- 입력:     \n",
    "> 5   \n",
    "> 0 4   \n",
    "> 1 2   \n",
    "> 1 -1   \n",
    "> 2 2   \n",
    "> 3 3   \n",
    "- 출력:      \n",
    "> 1 -1   \n",
    "> 1 2   \n",
    "> 2 2    \n",
    "> 3 3   \n",
    "> 0 4    "
   ]
  },
  {
   "cell_type": "code",
   "execution_count": 7,
   "metadata": {},
   "outputs": [
    {
     "name": "stdout",
     "output_type": "stream",
     "text": [
      "0 4\n",
      "1 -1\n",
      "1 2\n",
      "2 2\n",
      "3 3\n"
     ]
    }
   ],
   "source": [
    "n = int(input())\n",
    "\n",
    "array = []\n",
    "for i in range(n):\n",
    "    x, y = map(int, input().split())\n",
    "    array.append([x,y])\n",
    "    \n",
    "s_array = sorted(array)\n",
    "\n",
    "for x, y in s_array:\n",
    "    print(x,y)"
   ]
  },
  {
   "cell_type": "code",
   "execution_count": 5,
   "metadata": {},
   "outputs": [
    {
     "name": "stdout",
     "output_type": "stream",
     "text": [
      "music\n",
      "{'c', 'a', 'd', 'b'}\n"
     ]
    }
   ],
   "source": [
    "# 노트\n",
    "a = [1, 2, ['a', 'b', ['music', 'is']]]\n",
    "\n",
    "print(a[2][2][0])"
   ]
  }
 ],
 "metadata": {
  "kernelspec": {
   "display_name": "Python 3.9.12 ('base')",
   "language": "python",
   "name": "python3"
  },
  "language_info": {
   "codemirror_mode": {
    "name": "ipython",
    "version": 3
   },
   "file_extension": ".py",
   "mimetype": "text/x-python",
   "name": "python",
   "nbconvert_exporter": "python",
   "pygments_lexer": "ipython3",
   "version": "3.9.12"
  },
  "orig_nbformat": 4,
  "vscode": {
   "interpreter": {
    "hash": "bf7d6eba330418ccf72e0b1e51b9a393482b86c7d0f812a40e6604c9feadb536"
   }
  }
 },
 "nbformat": 4,
 "nbformat_minor": 2
}
