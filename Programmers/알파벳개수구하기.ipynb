{
 "cells": [
  {
   "cell_type": "markdown",
   "metadata": {},
   "source": [
    "- https://school.programmers.co.kr/learn/courses/30/lessons/12916       \n",
    "\n",
    "- 문제 설명 \n",
    "대문자와 소문자가 섞여있는 문자열 s가 주어집니다. s에 'p'의 개수와 'y'의 개수를 비교해 같으면 True, 다르면 False를 return 하는 solution를 완성하세요. 'p', 'y' 모두 하나도 없는 경우는 항상 True를 리턴합니다. 단, 개수를 비교할 때 대문자와 소문자는 구별하지 않습니다.        \n",
    "\n",
    "예를 들어 s가 \"pPoooyY\"면 true를 return하고 \"Pyy\"라면 false를 return합니다.     \n",
    "\n",
    "- 제한사항        \n",
    "문자열 s의 길이 : 50 이하의 자연수      \n",
    "문자열 s는 알파벳으로만 이루어져 있습니다.   \n",
    "\n",
    "- 입출력 예           \n",
    "s\tanswer  \n",
    "\"pPoooyY\"\ttrue        \n",
    "\"Pyy\"\tfalse       \n",
    "\n",
    "- 입출력 예 설명      \n",
    ">- 입출력 예 #1            \n",
    ">- 'p'의 개수 2개, 'y'의 개수 2개로 같으므로 true를 return 합니다.             \n",
    "\n",
    ">- 입출력 예 #2            \n",
    ">- 'p'의 개수 1개, 'y'의 개수 2개로 다르므로 false를 return 합니다.            "
   ]
  },
  {
   "cell_type": "code",
   "execution_count": 4,
   "metadata": {},
   "outputs": [
    {
     "data": {
      "text/plain": [
       "False"
      ]
     },
     "execution_count": 4,
     "metadata": {},
     "output_type": "execute_result"
    }
   ],
   "source": [
    "def solution(s):\n",
    "    answer = True\n",
    "    pcount = ycount = 0\n",
    "    for i in range(len(s)):\n",
    "        if s[i].lower()=='p':\n",
    "            pcount += 1\n",
    "        elif s[i].lower()=='y':\n",
    "            ycount += 1\n",
    "    if pcount != ycount:\n",
    "        answer = False\n",
    "    return answer\n",
    "\n",
    "s = \"ppy\"\n",
    "solution(s)"
   ]
  },
  {
   "cell_type": "code",
   "execution_count": 10,
   "metadata": {},
   "outputs": [
    {
     "name": "stdout",
     "output_type": "stream",
     "text": [
      "prootroperty\n"
     ]
    }
   ],
   "source": [
    "s = \"PROOTroperty\"\n",
    "a = s.lower()\n",
    "\n",
    "print(a)"
   ]
  }
 ],
 "metadata": {
  "kernelspec": {
   "display_name": "Python 3.9.12 ('base')",
   "language": "python",
   "name": "python3"
  },
  "language_info": {
   "codemirror_mode": {
    "name": "ipython",
    "version": 3
   },
   "file_extension": ".py",
   "mimetype": "text/x-python",
   "name": "python",
   "nbconvert_exporter": "python",
   "pygments_lexer": "ipython3",
   "version": "3.9.12"
  },
  "orig_nbformat": 4,
  "vscode": {
   "interpreter": {
    "hash": "bf7d6eba330418ccf72e0b1e51b9a393482b86c7d0f812a40e6604c9feadb536"
   }
  }
 },
 "nbformat": 4,
 "nbformat_minor": 2
}
