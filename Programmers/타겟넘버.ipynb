{
 "cells": [
  {
   "cell_type": "markdown",
   "metadata": {},
   "source": [
    "- https://school.programmers.co.kr/learn/courses/30/lessons/43165\n",
    "\n",
    "- 문제 설명\n",
    "n개의 음이 아닌 정수들이 있습니다. 이 정수들을 순서를 바꾸지 않고 적절히 더하거나 빼서 타겟 넘버를 만들려고 합니다. 예를 들어 [1, 1, 1, 1, 1]로 숫자 3을 만들려면 다음 다섯 방법을 쓸 수 있습니다.   \n",
    "-1+1+1+1+1 = 3    \n",
    "+1-1+1+1+1 = 3    \n",
    "+1+1-1+1+1 = 3    \n",
    "+1+1+1-1+1 = 3    \n",
    "+1+1+1+1-1 = 3    \n",
    "사용할 수 있는 숫자가 담긴 배열 numbers, 타겟 넘버 target이 매개변수로 주어질 때 숫자를 적절히 더하고 빼서 타겟 넘버를 만드는 방법의 수를 return 하도록 solution 함수를 작성해주세요.    \n",
    "   \n",
    "- 제한사항     \n",
    "주어지는 숫자의 개수는 2개 이상 20개 이하입니다.    \n",
    "각 숫자는 1 이상 50 이하인 자연수입니다.   \n",
    "타겟 넘버는 1 이상 1000 이하인 자연수입니다.   \n",
    "\n",
    "- 입출력 예   \n",
    "numbers\ttarget\treturn      \n",
    "[1, 1, 1, 1, 1]\t3\t5           \n",
    "[4, 1, 2, 1]\t4\t2           "
   ]
  },
  {
   "cell_type": "code",
   "execution_count": 62,
   "metadata": {},
   "outputs": [
    {
     "data": {
      "text/plain": [
       "2"
      ]
     },
     "execution_count": 62,
     "metadata": {},
     "output_type": "execute_result"
    }
   ],
   "source": [
    "# bfs(queue) 풀이\n",
    "from collections import deque\n",
    "\n",
    "def solution(numbers, target):\n",
    "    # 경우의 수 0개로 시작\n",
    "    answer = 0\n",
    "    # 내장 라이브러리 사용\n",
    "    queue = deque()\n",
    "    # 배열의 갯수\n",
    "    n = len(numbers)\n",
    "    # [numbers[0], 0]을 queue에 삽입\n",
    "    queue.append([numbers[0], 0])\n",
    "    queue.append([-1*numbers[0], 0])\n",
    "    \n",
    "    # 큐가 빌때 까지 반복\n",
    "    while queue:\n",
    "        # queue의 왼쪽값 부터 빼내서\n",
    "        temp, idx = queue.popleft()\n",
    "        # 인덱스값을 1씩 증가시키며 탐색\n",
    "        idx += 1\n",
    "        if idx < n:\n",
    "            queue.append([temp+numbers[idx], idx])\n",
    "            queue.append([temp-numbers[idx], idx])\n",
    "        else:\n",
    "            if temp == target:\n",
    "                answer += 1\n",
    "    return answer\n",
    "\n",
    "numbers = [4, 1, 2, 1]\n",
    "target = 4\n",
    "solution(numbers, target)\n"
   ]
  },
  {
   "cell_type": "code",
   "execution_count": 85,
   "metadata": {},
   "outputs": [
    {
     "data": {
      "text/plain": [
       "2"
      ]
     },
     "execution_count": 85,
     "metadata": {},
     "output_type": "execute_result"
    }
   ],
   "source": [
    "# dfs(stack) 풀이\n",
    "\n",
    "def solution(numbers, target):\n",
    "    answer = 0\n",
    "    queue = [[numbers[0],0], [-1*numbers[0],0]]\n",
    "    n = len(numbers)\n",
    "    while queue:\n",
    "        temp, idx = queue.pop()\n",
    "        idx += 1\n",
    "        if idx < n:\n",
    "            queue.append([temp+numbers[idx], idx])\n",
    "            queue.append([temp-numbers[idx], idx])\n",
    "        else:\n",
    "            if temp == target:\n",
    "                answer += 1\n",
    "    return answer\n",
    "\n",
    "numbers = [4, 1, 2, 1]\n",
    "target = 4\n",
    "solution(numbers, target)\n",
    "            "
   ]
  },
  {
   "cell_type": "code",
   "execution_count": 99,
   "metadata": {},
   "outputs": [
    {
     "data": {
      "text/plain": [
       "0"
      ]
     },
     "execution_count": 99,
     "metadata": {},
     "output_type": "execute_result"
    }
   ],
   "source": [
    "def solution(numbers, target):\n",
    "    if not numbers and target == 0 :\n",
    "        return 1\n",
    "    elif not numbers:\n",
    "        return 0\n",
    "    else:\n",
    "        return solution(numbers[1:], target-numbers[0]) + solution(numbers[1:], target+numbers[0])\n",
    "    \n",
    "numbers = [4, 1, 2, 1]\n",
    "target = 1\n",
    "solution(numbers, target)"
   ]
  },
  {
   "cell_type": "code",
   "execution_count": 89,
   "metadata": {},
   "outputs": [
    {
     "name": "stdout",
     "output_type": "stream",
     "text": [
      "[[1, 0], [-1, 0], [1, 0], [2, 0]]\n",
      "3 0\n"
     ]
    }
   ],
   "source": [
    "from collections import deque\n",
    "\n",
    "numbers = [1, 2, 3, 4]\n",
    "\n",
    "# queue = deque()\n",
    "    \n",
    "queue = [[numbers[0],0], [-1*numbers[0],0]]\n",
    "\n",
    "queue.append([numbers[0], 0])\n",
    "queue.append([numbers[1], 0])\n",
    "queue.append([numbers[2], 0])\n",
    "# queue.append([numbers[3]])\n",
    "\n",
    "# a = queue.popleft()\n",
    "# print(a)\n",
    "temp, idx = queue.pop()\n",
    "print(queue)\n",
    "print(temp, idx)\n",
    "\n",
    "# print(queue)"
   ]
  }
 ],
 "metadata": {
  "kernelspec": {
   "display_name": "Python 3.9.12 ('base')",
   "language": "python",
   "name": "python3"
  },
  "language_info": {
   "codemirror_mode": {
    "name": "ipython",
    "version": 3
   },
   "file_extension": ".py",
   "mimetype": "text/x-python",
   "name": "python",
   "nbconvert_exporter": "python",
   "pygments_lexer": "ipython3",
   "version": "3.9.12"
  },
  "orig_nbformat": 4,
  "vscode": {
   "interpreter": {
    "hash": "bf7d6eba330418ccf72e0b1e51b9a393482b86c7d0f812a40e6604c9feadb536"
   }
  }
 },
 "nbformat": 4,
 "nbformat_minor": 2
}
