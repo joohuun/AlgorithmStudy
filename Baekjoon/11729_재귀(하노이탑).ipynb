{
 "cells": [
  {
   "cell_type": "markdown",
   "metadata": {},
   "source": [
    "11729번 하노이 탑 이동순서(재귀)\n",
    "- \n",
    "\n",
    "문제\n",
    "- 세 개의 장대가 있고 첫 번째 장대에는 반경이 서로 다른 n개의 원판이 쌓여 있다. 각 원판은 반경이 큰 순서대로 쌓여 있다. 이제 수도승들이 다음 규칙에 따라 첫 번째 장대에서 세번째 장대로 옮기려 한다.   \n",
    "\n",
    "    1. 한 번에 한 개의 원판만을 다른 탑으로 옮길 수 있다.   \n",
    "    2. 쌓아 놓은 원판은 항상 위의 것이 아래의 것보다 작아야 한다.   \n",
    "   \n",
    "   \n",
    "- 이 작업을 수행하는데 필요한 이동 순서를 출력하는 프로그램을 작성하라. 단, 이동 횟수는 최소가 되어야 한다.   \n",
    "\n",
    "입력\n",
    "- 첫째 줄에 첫 번째 장대에 쌓인 원판의 개수 N (1 ≤ N ≤ 20)이 주어진다.\n",
    "\n",
    "출력\n",
    "- 첫째 줄에 옮긴 횟수 K를 출력한다.\n",
    "\n",
    "- 두 번째 줄부터 수행 과정을 출력한다. 두 번째 줄부터 K개의 줄에 걸쳐 두 정수 A B를 빈칸을 사이에 두고 출력하는데, 이는 A번째 탑의 가장 위에 있는 원판을 B번째 탑의 가장 위로 옮긴다는 뜻이다.\n",
    "\n",
    "예제 입력 및 출력\n",
    "- 입력: 3\n",
    "- 출력: 7, (1,3), (1,2), (3,2), (1,3), (2,1), (2,3), (1,3)"
   ]
  },
  {
   "cell_type": "code",
   "execution_count": 4,
   "metadata": {},
   "outputs": [
    {
     "name": "stdout",
     "output_type": "stream",
     "text": [
      "7\n",
      "1 3\n",
      "1 2\n",
      "3 2\n",
      "1 3\n",
      "2 1\n",
      "2 3\n",
      "1 3\n"
     ]
    }
   ],
   "source": [
    "def hanoi_tower(n, start, end) :\n",
    "    if n == 1 :\n",
    "        print(start, end)\n",
    "        return\n",
    "       \n",
    "    hanoi_tower(n-1, start, 6-start-end) # 1단계\n",
    "    print(start, end) # 2단계\n",
    "    hanoi_tower(n-1, 6-start-end, end) # 3단계\n",
    "    \n",
    "n = int(input())\n",
    "print(2**n-1) # 총 이동 횟수\n",
    "hanoi_tower(n, 1, 3)"
   ]
  }
 ],
 "metadata": {
  "kernelspec": {
   "display_name": "Python 3.9.12 ('base')",
   "language": "python",
   "name": "python3"
  },
  "language_info": {
   "codemirror_mode": {
    "name": "ipython",
    "version": 3
   },
   "file_extension": ".py",
   "mimetype": "text/x-python",
   "name": "python",
   "nbconvert_exporter": "python",
   "pygments_lexer": "ipython3",
   "version": "3.9.12"
  },
  "orig_nbformat": 4,
  "vscode": {
   "interpreter": {
    "hash": "bf7d6eba330418ccf72e0b1e51b9a393482b86c7d0f812a40e6604c9feadb536"
   }
  }
 },
 "nbformat": 4,
 "nbformat_minor": 2
}
