{
 "cells": [
  {
   "cell_type": "markdown",
   "metadata": {},
   "source": [
    "4344번 사칙연산\n",
    "- https://www.acmicpc.net/problem/4344\n",
    "\n",
    "문제\n",
    "- 대학생 새내기들의 90%는 자신이 반에서 평균은 넘는다고 생각한다. 당신은 그들에게 슬픈 진실을 알려줘야 한다.\n",
    "\n",
    "입력\n",
    "- 첫째 줄에는 테스트 케이스의 개수 C가 주어진다.\n",
    "\n",
    "- 둘째 줄부터 각 테스트 케이스마다 학생의 수 N(1 ≤ N ≤ 1000, N은 정수)이 첫 수로 주어지고, 이어서 N명의 점수가 주어진다. 점수는 0보다 크거나 같고, 100보다 작거나 같은 정수이다.\n",
    "\n",
    "출력\n",
    "-  각 케이스마다 한 줄씩 평균을 넘는 학생들의 비율을 반올림하여 소수점 셋째 자리까지 출력한다.\n",
    "\n",
    "예제 입력 및 출력\n",
    "- 입력: testcase 개수 입력 이후 아래 입력\n",
    "- 입력: 5 50 50 70 80 100 -> 출력: 40.000%\n",
    "- 입력: 7 100 95 90 80 70 60 50 -> 출력: 57.143%\n",
    "- 입력: 3 70 90 80 -> 출력: 33.333%\n",
    "- 입력: 3 70 90 81 -> 출력: 66.667%\n",
    "- 입력: 9 100 99 98 97 96 95 94 93 91 -> 출력: 55.556%"
   ]
  },
  {
   "cell_type": "code",
   "execution_count": 12,
   "metadata": {},
   "outputs": [
    {
     "name": "stdout",
     "output_type": "stream",
     "text": [
      "55.556%\n"
     ]
    }
   ],
   "source": [
    "x = int(input())\n",
    "\n",
    "for i in range(x):\n",
    "    num = list(map(int, input().split()))\n",
    "    avg = sum(num[1:]) / num[0]  # num 리스트의 구조 = [num0(학생의수), num1, num2, num3, num4, ..]\n",
    "    cnt = 0\n",
    "    for i in range(1, len(num)):\n",
    "        if num[i] > avg:\n",
    "            cnt += 1 \n",
    "            \n",
    "    print('%.3f' % (cnt / num[0] * 100) + '%')"
   ]
  }
 ],
 "metadata": {
  "kernelspec": {
   "display_name": "Python 3.9.12 ('base')",
   "language": "python",
   "name": "python3"
  },
  "language_info": {
   "codemirror_mode": {
    "name": "ipython",
    "version": 3
   },
   "file_extension": ".py",
   "mimetype": "text/x-python",
   "name": "python",
   "nbconvert_exporter": "python",
   "pygments_lexer": "ipython3",
   "version": "3.9.12"
  },
  "orig_nbformat": 4,
  "vscode": {
   "interpreter": {
    "hash": "bf7d6eba330418ccf72e0b1e51b9a393482b86c7d0f812a40e6604c9feadb536"
   }
  }
 },
 "nbformat": 4,
 "nbformat_minor": 2
}
