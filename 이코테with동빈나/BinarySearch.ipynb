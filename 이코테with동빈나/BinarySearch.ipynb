{
 "cells": [
  {
   "cell_type": "markdown",
   "metadata": {},
   "source": [
    "### 이분탐색/이진탐색 알고리즘이란❓(Binary Search Algorithm)  \n",
    "- 이진탐색 알고리즘은 정렬되어 있는 리스트에서 탐색 범위를 절반씩 좁혀가며 데이터를 탐색하는 방법이다.     \n",
    "- 이진탐색은 배열 내부의 데이터가 정렬되어 있어야만 사용할 수 있는 알고리즘이다.   \n",
    "- 변수 3개(start, end, mid)를 사용하여 탐색한다. 찾으려는 데이터와 중간점 위치에 있는 데이터를 반복적으로 비교해서 원하는 데이터를 찾는 것이 이진탐색이다.   "
   ]
  },
  {
   "cell_type": "code",
   "execution_count": 1,
   "metadata": {},
   "outputs": [
    {
     "name": "stdout",
     "output_type": "stream",
     "text": [
      "원소가 존재하지 않습니다.\n"
     ]
    }
   ],
   "source": [
    "# 이진 탐색 소스코드: 재귀적 구현\n",
    "n, target = list(map(int, input().split()))\n",
    "array = list(map(int, input().split()))\n",
    "\n",
    "def binary_search(array, target, start, end):\n",
    "    if start > end:\n",
    "        return None\n",
    "    mid = (start+end)//2\n",
    "    # 찾은 경우 중간점 인덱스 반환\n",
    "    if array[mid] == target:\n",
    "        return mid\n",
    "    # 중간점의 값보다 찾고자 하는 값이 작은 경우 왼쪽 확인\n",
    "    elif array[mid] > target:\n",
    "        return binary_search(array, target, start, mid-1)\n",
    "    # 중간점의 값보다 찾고자 하는 값이 큰 경우 오른쪽 확인\n",
    "    else:\n",
    "        return binary_search(array, target, mid+1, end)\n",
    "    \n",
    "result = binary_search(array, target, 0, n-1)\n",
    "if result == None:\n",
    "    print(\"원소가 존재하지 않습니다.\")\n",
    "else:\n",
    "    print(result+1)\n",
    "        "
   ]
  },
  {
   "cell_type": "code",
   "execution_count": 16,
   "metadata": {},
   "outputs": [
    {
     "name": "stdout",
     "output_type": "stream",
     "text": [
      "4\n"
     ]
    }
   ],
   "source": [
    "# 이진탐색 소스코드: 반복문 구현\n",
    "n, target = list(map(int, input().split()))\n",
    "array = list(map(int, input().split()))\n",
    "\n",
    "def binary_search(array, target, start, end):\n",
    "    while start <= end:\n",
    "        mid = (start+end)//2\n",
    "        # 찾은 경우 중간점 인덱스 반환\n",
    "        if array[mid] == target:\n",
    "            return target\n",
    "        # 중간점의 값보다 찾고자 하는 값이 작은 경우 왼쪽 확인\n",
    "        elif array[mid] > target:\n",
    "            end = mid-1\n",
    "        # 중간점의 값보다 찾고자 하는 값이 큰 경우 오른쪽 확인\n",
    "        else:\n",
    "            start = mid + 1\n",
    "    return None\n",
    "            \n",
    "result = binary_search(array, target, 0, n-1)\n",
    "if result == None:\n",
    "    print(\"원소가 존재하지 않습니다.\")\n",
    "else:\n",
    "    print(result+1)"
   ]
  },
  {
   "cell_type": "code",
   "execution_count": 2,
   "metadata": {},
   "outputs": [
    {
     "name": "stdout",
     "output_type": "stream",
     "text": [
      "1\n"
     ]
    }
   ],
   "source": [
    "n, target = list(map(int, input().split()))\n",
    "arr = list(map(int, input().split()))\n",
    "\n",
    "# start, end = arr의 인덱스값\n",
    "def binary_search(target, arr, start, end):\n",
    "    while start <= end:\n",
    "        mid = (start+end)//2\n",
    "        if arr[mid] == target:\n",
    "            return mid\n",
    "        elif arr[mid] > target:\n",
    "            return mid -1\n",
    "        else:\n",
    "            return mid + 1\n",
    "        \n",
    "result = binary_search(target, arr, 0, n-1)\n",
    "print(result+1)"
   ]
  },
  {
   "cell_type": "markdown",
   "metadata": {},
   "source": [
    "### <문제> 떡뽁이 떡 만들기   \n",
    "문제 설명\n",
    ">- 떡볶이 떡의 길이가 일정하지 않습니다. 대신에 한봉지 안에 들어가 있는 떡의 총 길이는 절단기로 잘라서 맞춥니다.   \n",
    ">- 절단기에 높이(H)를 지정하면 줄지어진 떡을 한번에 절단합니다. 높이가 H보다 긴 떡은 H 위의 부분이 잘릴 것이고, 낮은 떡은 잘리지 않습니다.   \n",
    ">- 예를 들어 높이가 19, 14, 10, 17cm인 떡이 나란히 있고 절단기 높이를 15cm로 지정하면 자른 뒤 떡의 높이가 15, 14, 10, 15cm가 될 것입니다. 잘린 떡의 길이는 차례대로 4, 0, 0, 2cm입니다. 손님은 6cm 만큼의 길이를 가져갑니다.   \n",
    ">- 손님이 왔을 때 요청한 총 길이가 M일 때 적어도 M만큼의 떡을 얻기 위해 절단기에 설정할 수 있는 높이의 최댓값을 구하는 프로그램을 작성하세요.\n",
    "\n",
    "문제조건   \n",
    ">입력조건   \n",
    ">- 첫째 줄에 떡의 개수 N과 요청한 떡의 길이 M이 주어집니다.   \n",
    ">- 둘째 줄에는 떡의 개별 높이가 주어집니다. 떡의 높이의 총합은 항상 M 이상이므로, 손님은 필요한 양만큼 떡을 사갈 수 있습니다.\n",
    ">출력조건   \n",
    ">- 적어도 M만큼의 떡을 집에 가져가기 위해 절단기에 설정할 수 있는 높이의 최댓값을 출력합니다.   \n",
    "\n",
    "입력예시   \n",
    "- 4 6   \n",
    "- 19 15 10 7\n",
    "\n",
    "출력예시\n",
    "- 15\n",
    "\n",
    "\n",
    "문제 해결 아이디어\n",
    ">- 적절한 높이를 찾을 때까지 이진 탐색을 수행하여 높이 H를 반복해서 조정한다.\n",
    ">- '현재 이 높이로 자르면 조건을 만족할 수 있는가?'를 확인한 뒤에 조건의 만족 여부(yes or no)에 따라서 탐색 범위를 좁혀서 해결할 수 있다.\n",
    ">- 절단기의 높이는 0부터 10억까지의 정수 중 하나이다. --> 이렇게 큰 탐색 범위를 보면 가장 먼저 이진 탐색을 떠올려야 한다."
   ]
  },
  {
   "cell_type": "code",
   "execution_count": 2,
   "metadata": {},
   "outputs": [
    {
     "name": "stdout",
     "output_type": "stream",
     "text": [
      "15\n"
     ]
    }
   ],
   "source": [
    "n, m = list(map(int, input().split())) # n개, m=총 길이\n",
    "arr = list(map(int, input().split())) # 떡 길이 리스트\n",
    "\n",
    "start = 0\n",
    "end = max(arr)\n",
    "\n",
    "# 절단기의 높이0 부터 시작\n",
    "result = 0\n",
    "\n",
    "while start <= end:\n",
    "    total = 0 # 떡의 길이는 0부터 시작\n",
    "    mid = (start+end)//2 # 절단기 높이 시작점\n",
    "    for x in arr:\n",
    "        # 떡의 길이가 절단기 보다 길면 자른다.\n",
    "        if x > mid: \n",
    "            total += x-mid\n",
    "    if total < m:\n",
    "        end = mid-1\n",
    "    else:\n",
    "        result = mid\n",
    "        start = mid+1\n",
    "        \n",
    "print(result+1)"
   ]
  },
  {
   "cell_type": "markdown",
   "metadata": {},
   "source": [
    "### <문제> 정렬된 배열에서 특정 수의 개수 구하기\n",
    "문제 설명\n",
    ">- N개의 원소를 포함하고 있는 수열이 오름차순으로 정렬되어 있습니다. 이때 이 수열에서 x가 등장하는 횟수를 계산하세요. 예를 들어 수열 {1, 1, 2, 2, 2, 2, 3}이 있을 때 x = 2 라면, 현재 수열에서 값이 2인 원소가 4개 이므로 4를 출력합니다.   \n",
    ">- 단, 이 문제는 시간 복잡도 0(logN)으로 알고리즘을 설계하지 않으면 시간 초과 판전을 받습니다.   \n",
    "\n",
    "문제조건   \n",
    ">입력조건   \n",
    ">- 첫째 줄에 N과 x가 정수 형태로 공백으로 구분되어 입력됩니다.   \n",
    ">- 둘째 줄에 N개의 원소가 정수 형태로 공백으로 구분되어 입력됩니다.   \n",
    ">출력조건   \n",
    ">- 수열의 원소 중에서 값이 x인 원소의 개수를 출력합니다. 단, 값이 x인 원소가 하나도 없다면 -1을 출력합니다.   \n",
    "\n",
    "입력예시    \n",
    "- 7 2   \n",
    "- 1 1 2 2 2 2 3   \n",
    "\n",
    "출력예시     \n",
    "- 4     \n",
    "\n",
    "\n",
    "문제 해결 아이디어\n",
    ">- 시간복잡도 0(logN)으로 동작하는 알고리즘을 요구하고 있습니다.     \n",
    ">- 일반적인 선형탐색(Linear Search)로는 시간 초과 판정을 받습니다.     \n",
    ">- 데이터가 정렬되어 있기 때문에 이진 탐색을 수행할 수 있습니다.     \n",
    ">- 특정 값이 등장하는 첫 번째 위치와 마지막 위치를 찾아 위치 차이를 계산해 문제를 해결할 수 있습니다.     "
   ]
  },
  {
   "cell_type": "code",
   "execution_count": null,
   "metadata": {},
   "outputs": [],
   "source": [
    "from bisect import bisect_left, bisect_right\n",
    "\n",
    "def count_by_range(arr, left, right):\n",
    "    right_index = bisect_right(arr, right)\n",
    "    left_index = bisect_left(arr, left)\n",
    "    return right_index - left_index\n",
    "\n",
    "n, x = list(map(int, input().split()))\n",
    "arr = list(map(int, input().split()))\n",
    "\n",
    "count = count_by_range(arr, x, x)\n",
    "\n",
    "if count == 0:\n",
    "    print(-1)\n",
    "else:\n",
    "    print(count)"
   ]
  },
  {
   "cell_type": "code",
   "execution_count": 21,
   "metadata": {},
   "outputs": [
    {
     "name": "stdout",
     "output_type": "stream",
     "text": [
      "5\n"
     ]
    }
   ],
   "source": [
    "from bisect import bisect_left, bisect_right\n",
    "\n",
    "arr = [1, 3, 5, 7, 9, 11, 13, 15, 17, 19]\n",
    "\n",
    "bisect_left(arr,9)\n",
    "bisect_right(arr,9)\n"
   ]
  }
 ],
 "metadata": {
  "kernelspec": {
   "display_name": "Python 3.9.12 ('base')",
   "language": "python",
   "name": "python3"
  },
  "language_info": {
   "codemirror_mode": {
    "name": "ipython",
    "version": 3
   },
   "file_extension": ".py",
   "mimetype": "text/x-python",
   "name": "python",
   "nbconvert_exporter": "python",
   "pygments_lexer": "ipython3",
   "version": "3.9.12"
  },
  "orig_nbformat": 4,
  "vscode": {
   "interpreter": {
    "hash": "bf7d6eba330418ccf72e0b1e51b9a393482b86c7d0f812a40e6604c9feadb536"
   }
  }
 },
 "nbformat": 4,
 "nbformat_minor": 2
}
