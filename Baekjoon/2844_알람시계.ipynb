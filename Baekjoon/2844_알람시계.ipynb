{
 "cells": [
  {
   "cell_type": "markdown",
   "metadata": {},
   "source": [
    "2844번 알람시계\n",
    "- https://www.acmicpc.net/problem/2884\n",
    "\n",
    "문제\n",
    "- 45분 일찍 알람 설정하기\n",
    "\n",
    "입력\n",
    "- 첫째 줄에 두 정수 H와 M이 주어진다. (0 ≤ H ≤ 23, 0 ≤ M ≤ 59) 그리고 이것은 현재 상근이가 설정한 놓은 알람 시간 H시 M분을 의미한다.\n",
    "- 입력 시간은 24시간 표현을 사용한다. 24시간 표현에서 하루의 시작은 0:0(자정)이고, 끝은 23:59(다음날 자정 1분 전)이다. 시간을 나타낼 때, 불필요한 0은 사용하지 않는다.\n",
    "\n",
    "출력\n",
    "- 첫째 줄에 상근이가 창영이의 방법을 사용할 때, 설정해야 하는 알람 시간을 출력한다. (입력과 같은 형태로 출력하면 된다.)\n",
    "\n",
    "예제 입력 및 출력\n",
    "- 입력: 10 10 --> 출력: 9 25\n",
    "- 입력: 0 30 --> 출력: 23 45\n",
    "- 입력: 23 40 --> 출력: 22 55"
   ]
  },
  {
   "cell_type": "markdown",
   "metadata": {},
   "source": [
    "#"
   ]
  },
  {
   "cell_type": "markdown",
   "metadata": {},
   "source": [
    "60 - 45 = 15\n",
    "45 - 45 = 0\n",
    "30 - 45 = 45\n",
    "15 - 45 = 30\n",
    "\n",
    "만약 분이 45분 이상이면 그냥 뺀다\n",
    "만약 45분 미만이면 +15분, -1시간\n",
    "만약 24시면 23시 고정에, +15분"
   ]
  },
  {
   "cell_type": "code",
   "execution_count": null,
   "metadata": {},
   "outputs": [],
   "source": [
    "# 1번 풀이\n",
    "# 시간이 0시일때 -1시인 음수 시간이 나와 정상적인  형태가 아니게 나온다.\n",
    "\n",
    "h = int(0)\n",
    "m = int(30)\n",
    "\n",
    "if m >= 45:\n",
    "    print(h, m-45)\n",
    "elif m < 45:\n",
    "    print(h-1, m+15)\n",
    "else:\n",
    "    print(23, m+15)"
   ]
  },
  {
   "cell_type": "code",
   "execution_count": 19,
   "metadata": {},
   "outputs": [
    {
     "name": "stdout",
     "output_type": "stream",
     "text": [
      "9 25\n"
     ]
    }
   ],
   "source": [
    "h = int(10)\n",
    "m = int(10)\n",
    "\n",
    "# h = map(int, (input().split))\n",
    "# m = map(int, (input().split))\n",
    "\n",
    "if m < 45 :\t# 분단위가 45분보다 작을 때 \n",
    "    if h == 0 :\t# 0 시이면\n",
    "        h = 23\n",
    "        m += 60\n",
    "    else :\t# 0시가 아니면 (0시보다 크면)\n",
    "        h -= 1\t\n",
    "        m += 60\n",
    "        \n",
    "print(h, m-45)\t"
   ]
  }
 ],
 "metadata": {
  "kernelspec": {
   "display_name": "Python 3.9.12 ('base')",
   "language": "python",
   "name": "python3"
  },
  "language_info": {
   "codemirror_mode": {
    "name": "ipython",
    "version": 3
   },
   "file_extension": ".py",
   "mimetype": "text/x-python",
   "name": "python",
   "nbconvert_exporter": "python",
   "pygments_lexer": "ipython3",
   "version": "3.9.12"
  },
  "orig_nbformat": 4,
  "vscode": {
   "interpreter": {
    "hash": "bf7d6eba330418ccf72e0b1e51b9a393482b86c7d0f812a40e6604c9feadb536"
   }
  }
 },
 "nbformat": 4,
 "nbformat_minor": 2
}
