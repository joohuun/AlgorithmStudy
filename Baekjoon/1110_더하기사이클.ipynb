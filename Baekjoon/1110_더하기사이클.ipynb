{
 "cells": [
  {
   "cell_type": "markdown",
   "metadata": {},
   "source": [
    "1110번 더하기 사이클\n",
    "- https://www.acmicpc.net/problem/1110\n",
    "\n",
    "문제\n",
    "- 0보다 크거나 같고, 99보다 작거나 같은 정수가 주어질 때 다음과 같은 연산을 할 수 있다. 먼저 주어진 수가 10보다 작다면 앞에 0을 붙여 두 자리 수로 만들고, 각 자리의 숫자를 더한다. 그 다음, 주어진 수의 가장 오른쪽 자리 수와 앞에서 구한 합의 가장 오른쪽 자리 수를 이어 붙이면 새로운 수를 만들 수 있다. 다음 예를 보자. \n",
    "\n",
    "- 26부터 시작한다. 2+6 = 8이다. 새로운 수는 68이다. 6+8 = 14이다. 새로운 수는 84이다. 8+4 = 12이다. 새로운 수는 42이다. 4+2 = 6이다. 새로운 수는 26이다.\n",
    "\n",
    "- 위의 예는 4번만에 원래 수로 돌아올 수 있다. 따라서 26의 사이클의 길이는 4이다.\n",
    "\n",
    "- N이 주어졌을 때, N의 사이클의 길이를 구하는 프로그램을 작성하시오.\n",
    "\n",
    "입력\n",
    "- 첫째 줄에 N이 주어진다. N은 0보다 크거나 같고, 99보다 작거나 같은 정수이다.\n",
    "\n",
    "출력\n",
    "- 첫째 줄에 N의 사이클 길이를 출력한다.\n",
    "\n",
    "예제 입력 및 출력\n",
    "- 입력: 26 --> 출력: 4\n",
    "- 입력: 55 --> 출력: 3\n",
    "- 입력: 1 --> 출력: 60\n",
    "- 입력: 0 --> 출력: 1\n",
    "- 입력: 71 --> 출력: 12"
   ]
  },
  {
   "cell_type": "code",
   "execution_count": 29,
   "metadata": {},
   "outputs": [
    {
     "name": "stdout",
     "output_type": "stream",
     "text": [
      "4\n"
     ]
    }
   ],
   "source": [
    "N = int(input(num))\n",
    "num = N\n",
    "count = 0\n",
    "\n",
    "# a = num//10, a 10의 자리 숫자(몫)\n",
    "# b = num%10,  b 1의 자리 숫자(나머지)\n",
    "# c = (a+b)%10 c는 위의 문제에서 한자리 수일 경우 앞에 0을 붙이기로 하였다. 그러므로 a+b의 1의 자리수를 가져온다.\n",
    "\n",
    "while True:\n",
    "    a = num//10\n",
    "    b = num%10\n",
    "    c = (a+b)%10\n",
    "    num = (b*10) + c\n",
    "    count += 1\n",
    "    if (num == N):\n",
    "        break\n",
    "    \n",
    "print(count)\n",
    "    "
   ]
  }
 ],
 "metadata": {
  "kernelspec": {
   "display_name": "Python 3.9.12 ('base')",
   "language": "python",
   "name": "python3"
  },
  "language_info": {
   "codemirror_mode": {
    "name": "ipython",
    "version": 3
   },
   "file_extension": ".py",
   "mimetype": "text/x-python",
   "name": "python",
   "nbconvert_exporter": "python",
   "pygments_lexer": "ipython3",
   "version": "3.9.12"
  },
  "orig_nbformat": 4,
  "vscode": {
   "interpreter": {
    "hash": "bf7d6eba330418ccf72e0b1e51b9a393482b86c7d0f812a40e6604c9feadb536"
   }
  }
 },
 "nbformat": 4,
 "nbformat_minor": 2
}
