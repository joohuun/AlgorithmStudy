{
 "cells": [
  {
   "cell_type": "code",
   "execution_count": 8,
   "metadata": {},
   "outputs": [
    {
     "name": "stdout",
     "output_type": "stream",
     "text": [
      "None\n"
     ]
    }
   ],
   "source": [
    "# 재귀 함수를 이용한 순열\n",
    "def permutations(arr, n):\n",
    "    result = []\n",
    "    if n > len(arr):\n",
    "        return result\n",
    "    if n == 1:\n",
    "        for i in arr:\n",
    "            result.append([i])\n",
    "    elif n > 1:\n",
    "        for i in range(len(arr)):\n",
    "            answer = [i for i in arr]\n",
    "            answer.remove(arr[i])\n",
    "            for j in permutations(answer, n-1):\n",
    "                result.append([arr[i]]+j)\n",
    "    return result\n",
    "\n",
    "arr = [1, 2, 3]\n",
    "\n",
    "print(permutations(arr, 3))"
   ]
  },
  {
   "cell_type": "code",
   "execution_count": 88,
   "metadata": {},
   "outputs": [
    {
     "name": "stdout",
     "output_type": "stream",
     "text": [
      "[1, 3, 5] [1, 5, 3] [3, 1, 5] [3, 5, 1] [5, 1, 3] [5, 3, 1] None\n"
     ]
    }
   ],
   "source": [
    "# 내장함수를 사용한 순열 구하기\n",
    "import itertools\n",
    "\n",
    "\n",
    "def permutations(arr):\n",
    "    for i in itertools.permutations(arr, 3):\n",
    "        print(list(i), end=' ')\n",
    "arr = [1, 3, 5]\n",
    "print(permutations(arr))"
   ]
  },
  {
   "cell_type": "code",
   "execution_count": null,
   "metadata": {},
   "outputs": [],
   "source": []
  }
 ],
 "metadata": {
  "kernelspec": {
   "display_name": "Python 3.9.12 ('base')",
   "language": "python",
   "name": "python3"
  },
  "language_info": {
   "codemirror_mode": {
    "name": "ipython",
    "version": 3
   },
   "file_extension": ".py",
   "mimetype": "text/x-python",
   "name": "python",
   "nbconvert_exporter": "python",
   "pygments_lexer": "ipython3",
   "version": "3.9.12"
  },
  "orig_nbformat": 4,
  "vscode": {
   "interpreter": {
    "hash": "bf7d6eba330418ccf72e0b1e51b9a393482b86c7d0f812a40e6604c9feadb536"
   }
  }
 },
 "nbformat": 4,
 "nbformat_minor": 2
}
