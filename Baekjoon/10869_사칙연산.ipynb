{
 "cells": [
  {
   "cell_type": "markdown",
   "metadata": {},
   "source": [
    "10869번 사칙연산\n",
    "- https://www.acmicpc.net/problem/10869\n",
    "\n",
    "문제\n",
    "- 두 자연수 A와 B가 주어진다. 이때, A+B, A-B, A*B, A/B(몫), A%B(나머지)를 출력하는 프로그램을 작성하시오.\n",
    "\n",
    "입력\n",
    "- 두 자연수 A와 B가 주어진다. (1 ≤ A, B ≤ 10,000)\n",
    "\n",
    "출력\n",
    "- 첫째 줄에 A+B, 둘째 줄에 A-B, 셋째 줄에 A*B, 넷째 줄에 A/B, 다섯째 줄에 A%B를 출력한다.\n",
    "\n",
    "예제 입력 및 출력\n",
    "- 입력: 7, 3 \n",
    "- 출력: 10, 4, 21, 2, 1"
   ]
  },
  {
   "cell_type": "code",
   "execution_count": 11,
   "metadata": {},
   "outputs": [
    {
     "name": "stdout",
     "output_type": "stream",
     "text": [
      "10\n",
      "4\n",
      "21\n",
      "2\n",
      "1\n"
     ]
    }
   ],
   "source": [
    "a = input().split()\n",
    "b = input().split()\n",
    "a = int(7)\n",
    "b = int(3)\n",
    "print(a+b)\n",
    "print(a-b)\n",
    "print(a*b)\n",
    "print(int(a/b))\n",
    "print(a%b)"
   ]
  }
 ],
 "metadata": {
  "kernelspec": {
   "display_name": "Python 3.9.12 ('base')",
   "language": "python",
   "name": "python3"
  },
  "language_info": {
   "codemirror_mode": {
    "name": "ipython",
    "version": 3
   },
   "file_extension": ".py",
   "mimetype": "text/x-python",
   "name": "python",
   "nbconvert_exporter": "python",
   "pygments_lexer": "ipython3",
   "version": "3.9.12"
  },
  "orig_nbformat": 4,
  "vscode": {
   "interpreter": {
    "hash": "bf7d6eba330418ccf72e0b1e51b9a393482b86c7d0f812a40e6604c9feadb536"
   }
  }
 },
 "nbformat": 4,
 "nbformat_minor": 2
}
