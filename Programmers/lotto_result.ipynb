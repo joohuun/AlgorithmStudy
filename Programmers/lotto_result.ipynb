{
 "cells": [
  {
   "cell_type": "markdown",
   "metadata": {},
   "source": [
    "로또의 최고 순위와 최저 순위\n",
    "- https://school.programmers.co.kr/learn/courses/30/lessons/77484?language=python3\n",
    "\n",
    "문제\n",
    "민우의 동생이 로또에 낙서를 하여, 일부 번호를 알아볼 수 없게 되었습니다. 당첨 번호 발표 후, \n",
    "\n",
    "민우는 자신이 구매했던 로또로 당첨이 가능했던 최고 순위와 최저 순위를 알아보고 싶어 졌습니다.\n",
    "\n",
    "알아볼 수 없는 번호를 0으로 표기하기로 하고, 민우가 구매한 로또 번호 6개가 44, 1, 0, 0, 31 25라고 가정해보겠습니다. \n",
    "\n",
    "당첨 번호 6개가 31, 10, 45, 1, 6, 19라면, 당첨 가능한 최고 순위와 최저 순위의 한 예는 아래와 같습니다.\n",
    "\n",
    "민우가 구매한 로또 번호를 lotts, 당첨번호를 win_nums가 매개 변수로 주어 진다.\n",
    "\n",
    "이떄 당첨가능한 최고 순위와 최저 순위를 차례로 배열에 담아서 return 하도록 함수를 작성\n",
    "\n",
    "입출력 예\n",
    "\n",
    "lottos / win_nums /\tresult\n",
    "\n",
    "[44, 1, 0, 0, 31, 25] / [31, 10, 45, 1, 6, 19] / [3, 5]\n",
    "\n",
    "[0, 0, 0, 0, 0, 0] / [38, 19, 20, 40, 15, 25] / [1, 6]\n",
    "\n",
    "[45, 4, 35, 20, 3, 9] / [20, 9, 3, 45, 4, 35] /\t[1, 1]\n"
   ]
  },
  {
   "cell_type": "code",
   "execution_count": 4,
   "metadata": {},
   "outputs": [],
   "source": [
    "def solution(lottos, win_nums):\n",
    "    bestResult = 7\n",
    "    worstResult = 7\n",
    "    # 로또배열 안의 수 반복\n",
    "    for i in lottos:\n",
    "        # i가 win_nums 안에 없고 i가 0이면\n",
    "        if (i not in win_nums) and (i==0):\n",
    "            bestResult = bestResult-1\n",
    "        # i가 0이 아니고 i가 win_nums안에 있으면\n",
    "        elif (i != 0) and (i in win_nums):\n",
    "            bestResult = bestResult-1\n",
    "            worstResult = worstResult-1\n",
    "    if bestResult > 6:\n",
    "        bestResult = 6\n",
    "    if worstResult > 6:\n",
    "        worstResult = 6\n",
    "    answer = [bestResult, worstResult]\n",
    "    return answer"
   ]
  }
 ],
 "metadata": {
  "kernelspec": {
   "display_name": "Python 3.9.12 ('base')",
   "language": "python",
   "name": "python3"
  },
  "language_info": {
   "codemirror_mode": {
    "name": "ipython",
    "version": 3
   },
   "file_extension": ".py",
   "mimetype": "text/x-python",
   "name": "python",
   "nbconvert_exporter": "python",
   "pygments_lexer": "ipython3",
   "version": "3.11.4"
  },
  "orig_nbformat": 4,
  "vscode": {
   "interpreter": {
    "hash": "bf7d6eba330418ccf72e0b1e51b9a393482b86c7d0f812a40e6604c9feadb536"
   }
  }
 },
 "nbformat": 4,
 "nbformat_minor": 2
}
