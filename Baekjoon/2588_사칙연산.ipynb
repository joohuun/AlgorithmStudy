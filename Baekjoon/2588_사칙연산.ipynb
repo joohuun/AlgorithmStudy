{
 "cells": [
  {
   "cell_type": "markdown",
   "metadata": {},
   "source": [
    "2588번 사칙연산\n",
    "- https://www.acmicpc.net/problem/2588\n",
    "\n",
    "문제\n",
    "- (세자리수)x(세자리수)는 다음과 같은 가정을 통하여 이루어진다.\n",
    "![](./2588.png)\n",
    "\n",
    "입력\n",
    "- \n",
    "\n",
    "출력\n",
    "- \n",
    "\n",
    "예제 입력 및 출력\n",
    "입력: \n",
    "출력: "
   ]
  }
 ],
 "metadata": {
  "language_info": {
   "name": "python"
  },
  "orig_nbformat": 4
 },
 "nbformat": 4,
 "nbformat_minor": 2
}
