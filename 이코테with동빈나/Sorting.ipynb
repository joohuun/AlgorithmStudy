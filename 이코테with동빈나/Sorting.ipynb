{
 "cells": [
  {
   "cell_type": "markdown",
   "metadata": {},
   "source": [
    "### 정렬 알고리즘이란❓(Sorting Algorithm)\n",
    "- 정렬이란 데이터를 특정한 기준에 따라 순서대로 나열하는 것을 말합니다.   \n",
    "- 일반적으로 문제 상황에 따라서 적절한 정렬 알고리즘이 공식처럼 사용됩니다.   \n",
    "\n",
    "\n",
    "### 대표적인 정렬의 종류\n",
    "- 버블정렬(Bubble Sort)   \n",
    "- 선택정렬(Selection Sort)   \n",
    "처리되지 않은 데이터 중에서 가장 작은 데이터를 선택해 맨 앞에 있는 데이터와 바꾸는 것을 반복합니다.\n",
    "- 삽입정렬(Insert Sort)   \n",
    "처리되지 않은 데이터를 하나씩 골라 적절한 위치에 삽입합니다.   \n",
    "선택 정렬에 비해 구현 난이도가 높은 편이지만, 일반적으로 더 효율적으로 동작합니다. \n",
    "- 퀵정렬  \n",
    "기준 데이터를 설정하고 그 기준보다 큰 데이터와 작은 데이터의 위치를 바꾸는 방법입니다.   \n",
    "일반적인 상황에서 가장 많이 사용되는 정렬 알고리즘 중 하나입니다.   \n",
    "병합 정렬과 더불어 대부분의 프로그래밍 언어의 정렬 라이브러리의 근간이 되는 알고리즘입니다.   \n",
    "가장 기본적인 퀵 정렬은 첫 번째 데이터를 기준으로 설정합니다.   "
   ]
  },
  {
   "cell_type": "code",
   "execution_count": 4,
   "metadata": {},
   "outputs": [
    {
     "name": "stdout",
     "output_type": "stream",
     "text": [
      "[1, 2, 3, 4, 5, 6, 7, 8, 9]\n"
     ]
    }
   ],
   "source": [
    "# 선택 정렬\n",
    "arr = [7, 5, 9, 4, 6, 3, 1, 8, 2]\n",
    "\n",
    "for i in range(len(arr)):\n",
    "    min_index = i # 가장 작은 원소의 인덱스\n",
    "    for j in range(i+1, len(arr)):\n",
    "        if arr[min_index] > arr[j]:\n",
    "            min_index = j\n",
    "    arr[i], arr[min_index] = arr[min_index], arr[i]\n",
    "# arr.sort()\n",
    "print(arr)"
   ]
  },
  {
   "cell_type": "code",
   "execution_count": 3,
   "metadata": {},
   "outputs": [
    {
     "name": "stdout",
     "output_type": "stream",
     "text": [
      "[1, 2, 3, 3, 4, 5, 6, 7, 8, 9]\n"
     ]
    }
   ],
   "source": [
    "# 삽입 정렬\n",
    "arr = [7, 5, 9, 3, 4, 6, 3, 1, 8, 2]\n",
    "\n",
    "for i in range(1, len(arr)): # 인덱스 1부터 끝까지 반복\n",
    "    for j in range(i, 0, -1): # 인덱스 i부터 0번째 인덱스까지 1씩 감소하며 반복\n",
    "        if arr[j] < arr[j-1]:\n",
    "            arr[j], arr[j-1] = arr[j-1], arr[j]\n",
    "        else:\n",
    "            break\n",
    "print(arr)\n"
   ]
  },
  {
   "cell_type": "code",
   "execution_count": 24,
   "metadata": {},
   "outputs": [
    {
     "name": "stdout",
     "output_type": "stream",
     "text": [
      "[1, 2, 3, 4, 5, 5, 7, 7, 8]\n"
     ]
    }
   ],
   "source": [
    "# 퀵 정렬\n",
    "arr = [7, 5, 9, 4, 6, 3, 1, 8, 2]\n",
    "\n",
    "def quick_sort(arr, start, end):\n",
    "    if start >= end:\n",
    "        return\n",
    "    pivot = start # 피벗(기준)을 첫번째 데이터로 지정\n",
    "    left = start+1\n",
    "    right = end\n",
    "    while(left <= right):\n",
    "        # 피벗보다 큰 데이터를 찾을 때까지 반복 >>>\n",
    "        while(left <= end and arr[left] <= arr[pivot]):\n",
    "            left += 1\n",
    "        # 피벗보다 작은 데이터를 찾을 때까지 반복 <<<\n",
    "        while(right > start and arr[right] >= arr[pivot]):\n",
    "            right -= 1\n",
    "        if(left>right): # 엇갈렸다면 작은 데이터와 피벗 교체\n",
    "            arr[right], arr[pivot] = arr[pivot], arr[right]\n",
    "        else: # 엇갈리지 않았다면 작은데이터와 큰 데이터를 교체\n",
    "            arr[left], arr[right] = arr[right], arr[pivot]\n",
    "    # 분할 이후 왼쪽 부분과 오른쪽 부분에서 각각 정렬 수행\n",
    "    quick_sort(arr, start, right-1)\n",
    "    quick_sort(arr, right+1, end)\n",
    "\n",
    "quick_sort(arr, 0, len(arr)-1)\n",
    "print(arr)\n",
    "        "
   ]
  },
  {
   "cell_type": "markdown",
   "metadata": {},
   "source": [
    "### <문제> 거스름돈   \n",
    "문제 설명\n",
    "> 1. 예를 들어 N=5, K=3이고 배열 A와 B가 다음과 같다고 해봅시다.\n",
    ">- A = [1,2,5,4,3]\n",
    ">- B = [5,5,6,6,5] \n",
    "> 이 경우, 다음과 같이 세번의 연산을 수행할 수 있습니다.\n",
    ">- 연산1) 배열 A의 원소 '1'과 배열 B의 원소 '6'을 바꾸기   \n",
    ">- 연산2) 배열 A읜 원소 '2'와 배열 B의 원소 '6'을 바꾸기   \n",
    ">- 연산3) 배열 A의 원소 '3'과 배열 B의 원소 '5'를 바꾸기 \n",
    "\n",
    "> 2. 세번의 연산 이후 배열 A와 배열 B의 상태는 다음과 같이 구성될 것입니다.   \n",
    ">- A = [6,6,5,4,5]   \n",
    ">- B = [3,5,1,2,5]   \n",
    "\n",
    "> 3. 이때 배열 A의 원소합은 26이 되며, 이보다 더 합을 크게 만들 수는 없습니다.\n",
    "\n",
    "문제 해결 아이디어\n",
    ">- 최적의 해를 빠르게 구하기 위해서는 가장 큰 화폐 단위부터 돈을 거슬러 준다.   \n",
    ">- N원을 거슬러 줘야 할 때, 가장 먼저 500원으로 거슬러 줄 수 있을 만큼 거슬러 준다.\n",
    ">- 이후 100원, 50원, 10원 순으로 거슬러 준다."
   ]
  },
  {
   "cell_type": "code",
   "execution_count": 5,
   "metadata": {},
   "outputs": [
    {
     "name": "stdout",
     "output_type": "stream",
     "text": [
      "26\n"
     ]
    }
   ],
   "source": [
    "# n, k = map(int, input().split())\n",
    "# a = list(map(int, input().split()))\n",
    "# b = list(map(int, input().split()))\n",
    "n, k = 5, 3\n",
    "a = [1,2,5,4,3]\n",
    "b = [5,5,6,6,5] \n",
    "\n",
    "a.sort()\n",
    "b.sort(reverse=True)\n",
    "\n",
    "for i in range(k):\n",
    "    if a[i] < b[i]:\n",
    "        a[i], b[i] = b[i], a[i]\n",
    "    else:\n",
    "        break\n",
    "\n",
    "print(sum(a))\n",
    "    "
   ]
  },
  {
   "cell_type": "code",
   "execution_count": 23,
   "metadata": {},
   "outputs": [
    {
     "name": "stdout",
     "output_type": "stream",
     "text": [
      "3 a\n",
      "5 b\n",
      "range(1, 9)\n"
     ]
    }
   ],
   "source": [
    "a=5\n",
    "b=3\n",
    "\n",
    "a, b = b, a\n",
    "print(a, \"a\")\n",
    "print(b, \"b\")\n",
    "\n",
    "arr = [7, 5, 9, 4, 6, 3, 1, 8, 2]\n",
    "# print(len(arr))\n",
    "# range(len(arr))\n",
    "print(range(1, len(arr)))"
   ]
  }
 ],
 "metadata": {
  "kernelspec": {
   "display_name": "Python 3.9.12 ('base')",
   "language": "python",
   "name": "python3"
  },
  "language_info": {
   "codemirror_mode": {
    "name": "ipython",
    "version": 3
   },
   "file_extension": ".py",
   "mimetype": "text/x-python",
   "name": "python",
   "nbconvert_exporter": "python",
   "pygments_lexer": "ipython3",
   "version": "3.9.12"
  },
  "orig_nbformat": 4,
  "vscode": {
   "interpreter": {
    "hash": "bf7d6eba330418ccf72e0b1e51b9a393482b86c7d0f812a40e6604c9feadb536"
   }
  }
 },
 "nbformat": 4,
 "nbformat_minor": 2
}
