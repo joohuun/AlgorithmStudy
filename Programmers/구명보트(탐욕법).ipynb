{
 "cells": [
  {
   "cell_type": "code",
   "execution_count": 65,
   "metadata": {},
   "outputs": [
    {
     "name": "stdout",
     "output_type": "stream",
     "text": [
      "3\n"
     ]
    }
   ],
   "source": [
    "# people = list(map(int, input().split()))\n",
    "# limit = int(input())\n",
    "\n",
    "people = [50, 70, 80, 50]\n",
    "limit = 100\n",
    "people.sort()\n",
    "\n",
    "def solution(people, limit):\n",
    "    answer = 0\n",
    "    left = 0\n",
    "    right = len(people)-1\n",
    "    while left <= right:\n",
    "        if people[left] + people[right] <= limit:\n",
    "            left += 1\n",
    "            right -= 1\n",
    "        else:\n",
    "            right -= 1\n",
    "            \n",
    "        answer += 1\n",
    "    return answer\n",
    "print(solution(people, limit))"
   ]
  },
  {
   "cell_type": "code",
   "execution_count": 79,
   "metadata": {},
   "outputs": [
    {
     "name": "stdout",
     "output_type": "stream",
     "text": [
      "[80, 70, 50, 50]\n",
      "3\n"
     ]
    }
   ],
   "source": [
    "people = [50, 70, 80, 50]\n",
    "limit = 100\n",
    "people.sort(reverse=True)\n",
    "print(people)\n",
    "def solution(people, limit):\n",
    "    answer = 0 # 배의 갯수\n",
    "    length = len(people) -1 \n",
    "    for i in range(length):\n",
    "        if i >= length:\n",
    "            break\n",
    "        # i 번째 인덱스와 끝자리의 인덱스를 더해서 리밋을 넘지 않으면\n",
    "        if people[i] + people[length] <= limit:\n",
    "            answer += 1 # 배의 갯수 한개를 추가시키고 저장\n",
    "            length -= 1 # 왼쪽 방향으로 -1 만큼 탐색\n",
    "    return len(people) - answer\n",
    "\n",
    "print(solution(people, limit))\n",
    "\n",
    "\"\"\"\n",
    "step1) i = 80 일때 가장 마지막 오른쪽에 있는 데이터 50을 계산\n",
    "step2) 80 + 50 은 130으로 limit을 초과하므로 -1 만큼 이동하여 인덱스를 가져와서 다시 계산\n",
    "\"\"\"      \n",
    "\n",
    "    \n",
    "    "
   ]
  },
  {
   "cell_type": "code",
   "execution_count": 67,
   "metadata": {},
   "outputs": [
    {
     "name": "stdout",
     "output_type": "stream",
     "text": [
      "3\n"
     ]
    },
    {
     "data": {
      "text/plain": [
       "range(0, 3)"
      ]
     },
     "execution_count": 67,
     "metadata": {},
     "output_type": "execute_result"
    }
   ],
   "source": [
    "people = [50, 70, 70, 30]\n",
    "people.sort()\n",
    "r = len(people)-1\n",
    "print(r)\n",
    "range(len(people))\n",
    "\n"
   ]
  }
 ],
 "metadata": {
  "kernelspec": {
   "display_name": "Python 3.9.12 ('base')",
   "language": "python",
   "name": "python3"
  },
  "language_info": {
   "codemirror_mode": {
    "name": "ipython",
    "version": 3
   },
   "file_extension": ".py",
   "mimetype": "text/x-python",
   "name": "python",
   "nbconvert_exporter": "python",
   "pygments_lexer": "ipython3",
   "version": "3.9.12"
  },
  "orig_nbformat": 4,
  "vscode": {
   "interpreter": {
    "hash": "bf7d6eba330418ccf72e0b1e51b9a393482b86c7d0f812a40e6604c9feadb536"
   }
  }
 },
 "nbformat": 4,
 "nbformat_minor": 2
}
