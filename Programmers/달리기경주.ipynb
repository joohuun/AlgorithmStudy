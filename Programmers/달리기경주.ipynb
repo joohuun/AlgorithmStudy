{
 "cells": [
  {
   "cell_type": "markdown",
   "metadata": {},
   "source": [
    "https://school.programmers.co.kr/learn/courses/30/lessons/178871"
   ]
  },
  {
   "cell_type": "code",
   "execution_count": 91,
   "metadata": {},
   "outputs": [
    {
     "data": {
      "text/plain": [
       "['mumu', 'kai', 'mine', 'soe', 'poe']"
      ]
     },
     "execution_count": 91,
     "metadata": {},
     "output_type": "execute_result"
    }
   ],
   "source": [
    "players = [\"mumu\", \"soe\", \"poe\", \"kai\", \"mine\"]\n",
    "callings = [\"kai\", \"kai\", \"mine\", \"mine\"]\n",
    "\n",
    "\n",
    "result = dict(zip(players, range(len(players))))\n",
    "    \n",
    "def solution(players, callings):\n",
    "    for who in callings:\n",
    "        idx = result[who] # 호명된 선수의 현재 등수\n",
    "        result[who] -= 1 # 하나 앞 등수로 바꿔줌 -1\n",
    "        result[players[idx-1]] += 1 # 앞에 위치했던 선수의 등수 +1\n",
    "        players[idx-1], players[idx] = players[idx], players[idx-1] # 위치 변경\n",
    "    return players\n",
    "\n",
    "solution(players, callings)\n"
   ]
  }
 ],
 "metadata": {
  "kernelspec": {
   "display_name": "jupyter",
   "language": "python",
   "name": "python3"
  },
  "language_info": {
   "codemirror_mode": {
    "name": "ipython",
    "version": 3
   },
   "file_extension": ".py",
   "mimetype": "text/x-python",
   "name": "python",
   "nbconvert_exporter": "python",
   "pygments_lexer": "ipython3",
   "version": "3.11.4"
  },
  "orig_nbformat": 4
 },
 "nbformat": 4,
 "nbformat_minor": 2
}
