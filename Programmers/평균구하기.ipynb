{
 "cells": [
  {
   "cell_type": "markdown",
   "metadata": {},
   "source": [
    "- https://school.programmers.co.kr/learn/courses/30/lessons/12944   \n",
    "\n",
    "- 문제 설명   \n",
    "정수를 담고 있는 배열 arr의 평균값을 return하는 함수, solution을 완성해보세요.   \n",
    "\n",
    "- 제한사항   \n",
    "arr은 길이 1 이상, 100 이하인 배열입니다.   \n",
    "arr의 원소는 -10,000 이상 10,000 이하인 정수입니다.   \n",
    "\n",
    "- 입출력 예   \n",
    "arr / return   \n",
    "[1,2,3,4] /\t2.5    \n",
    "[5,5] /\t5   "
   ]
  },
  {
   "cell_type": "code",
   "execution_count": 4,
   "metadata": {},
   "outputs": [
    {
     "name": "stdout",
     "output_type": "stream",
     "text": [
      "2.5\n"
     ]
    }
   ],
   "source": [
    "arr = list(map(int, input().split()))\n",
    "\n",
    "def solution(arr):\n",
    "    answer = 0\n",
    "    # arr안의 원소를 반복\n",
    "    for i in arr:\n",
    "        # 각 원소들을 answer값에 더 해준다\n",
    "        answer += i\n",
    "    return answer / len(arr)\n",
    "    \n",
    "print(solution(arr))"
   ]
  },
  {
   "cell_type": "code",
   "execution_count": 8,
   "metadata": {},
   "outputs": [
    {
     "name": "stdout",
     "output_type": "stream",
     "text": [
      "2.5\n"
     ]
    }
   ],
   "source": [
    "arr = list(map(int, input().split()))\n",
    "\n",
    "def solution(arr):\n",
    "    return sum(arr)/len(arr)\n",
    "    \n",
    "print(solution(arr))"
   ]
  }
 ],
 "metadata": {
  "kernelspec": {
   "display_name": "Python 3.9.12 ('base')",
   "language": "python",
   "name": "python3"
  },
  "language_info": {
   "codemirror_mode": {
    "name": "ipython",
    "version": 3
   },
   "file_extension": ".py",
   "mimetype": "text/x-python",
   "name": "python",
   "nbconvert_exporter": "python",
   "pygments_lexer": "ipython3",
   "version": "3.9.12"
  },
  "orig_nbformat": 4,
  "vscode": {
   "interpreter": {
    "hash": "bf7d6eba330418ccf72e0b1e51b9a393482b86c7d0f812a40e6604c9feadb536"
   }
  }
 },
 "nbformat": 4,
 "nbformat_minor": 2
}
