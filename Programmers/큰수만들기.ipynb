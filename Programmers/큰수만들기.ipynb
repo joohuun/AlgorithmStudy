{
 "cells": [
  {
   "cell_type": "markdown",
   "metadata": {},
   "source": [
    "- https://school.programmers.co.kr/learn/courses/30/lessons/42883\n",
    "\n",
    "- 문제 설명    \n",
    ">- 어떤 숫자에서 k개의 수를 제거했을 때 얻을 수 있는 가장 큰 숫자를 구하려 합니다.    \n",
    ">- 예를 들어, 숫자 1924에서 수 두 개를 제거하면 [19, 12, 14, 92, 94, 24] 를 만들 수 있습니다. 이 중 가장 큰 숫자는 94 입니다.   \n",
    ">- 문자열 형식으로 숫자 number와 제거할 수의 개수 k가 solution 함수의 매개변수로 주어집니다. number에서 k 개의 수를 제거했을 때 만들 수 있는 수 중 가장 큰 숫자를 문자열 형태로 return 하도록 solution 함수를 완성하세요.    \n",
    "\n",
    "- 제한 조건   \n",
    "number는 2자리 이상, 1,000,000자리 이하인 숫자입니다.   \n",
    "k는 1 이상 number의 자릿수 미만인 자연수입니다.   \n",
    "\n",
    "- 입출력 예   \n",
    "number / k / return   \n",
    "\"1924\" / 2 / \"94\"   \n",
    "\"1231234\" / 3 /\t\"3234\"   \n",
    "\"4177252841\" /\t4 /\t\"775841\"    "
   ]
  },
  {
   "cell_type": "code",
   "execution_count": 9,
   "metadata": {},
   "outputs": [
    {
     "data": {
      "text/plain": [
       "'94'"
      ]
     },
     "execution_count": 9,
     "metadata": {},
     "output_type": "execute_result"
    }
   ],
   "source": [
    "def solution(number, k):\n",
    "    number =list(number) # 입력 받은 nmber를 리스트로 저장\n",
    "    result=[number.pop(0)] # number의 첫번째 요소를 꺼내 result에 저장\n",
    "    for n in number:\n",
    "        # 이전 요소가 현재 요소 보다 작다면\n",
    "        if result[-1] < n:\n",
    "            # 이전 요소가 남아있음 and\n",
    "            # 이전 요소가 현재 요소 보다 작음 and\n",
    "            # k 개의 수가 제거 안됨\n",
    "            while result and result[-1] < n and k>0:\n",
    "                result.pop() # 결과의 마지막 요소 제거\n",
    "                k -= 1       # k -= 1\n",
    "            result.append(n)\n",
    "        elif k == 0 or result[-1] >= n:\n",
    "            result.append(n)\n",
    "            \n",
    "    if k :\n",
    "        result=result[:-k]\n",
    "    answer = ''.join(result)\n",
    "\n",
    "    return answer\n",
    "\n",
    "solution(\"1924\", 2)"
   ]
  },
  {
   "cell_type": "code",
   "execution_count": null,
   "metadata": {},
   "outputs": [],
   "source": [
    "def solution(number, k):\n",
    "    # number의 첫번째 인덱스 값을 리스트에 저장\n",
    "    stack = [number[0]]\n",
    "    # number의 1번째 인덱스부터 끝까지 반복\n",
    "    for num in number[1:]:\n",
    "        # 리스트의 요소의 갯수가 0 보다 크고 == 남아있다 and\n",
    "        # 이전 요소가 현재 요소 보다 작다 and\n",
    "        # k 개의 수가 제거 안됨\n",
    "        while len(stack) > 0 and stack[-1] < num and k > 0:\n",
    "            k -= 1\n",
    "            stack.pop()\n",
    "        stack.append(num)\n",
    "    if k != 0:\n",
    "        stack = stack[:-k]\n",
    "    return ''.join(stack)"
   ]
  }
 ],
 "metadata": {
  "kernelspec": {
   "display_name": "Python 3.9.12 ('base')",
   "language": "python",
   "name": "python3"
  },
  "language_info": {
   "codemirror_mode": {
    "name": "ipython",
    "version": 3
   },
   "file_extension": ".py",
   "mimetype": "text/x-python",
   "name": "python",
   "nbconvert_exporter": "python",
   "pygments_lexer": "ipython3",
   "version": "3.9.12"
  },
  "orig_nbformat": 4,
  "vscode": {
   "interpreter": {
    "hash": "bf7d6eba330418ccf72e0b1e51b9a393482b86c7d0f812a40e6604c9feadb536"
   }
  }
 },
 "nbformat": 4,
 "nbformat_minor": 2
}
