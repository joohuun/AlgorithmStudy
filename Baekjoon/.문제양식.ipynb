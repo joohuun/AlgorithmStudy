{
 "cells": [
  {
   "cell_type": "markdown",
   "metadata": {},
   "source": [
    "10869번 사칙연산\n",
    "- \n",
    "\n",
    "문제\n",
    "- \n",
    "\n",
    "입력\n",
    "- \n",
    "\n",
    "출력\n",
    "- \n",
    "\n",
    "예제 입력 및 출력\n",
    "- 입력: \n",
    "- 출력: "
   ]
  }
 ],
 "metadata": {
  "kernelspec": {
   "display_name": "Python 3.9.12 ('base')",
   "language": "python",
   "name": "python3"
  },
  "language_info": {
   "name": "python",
   "version": "3.9.12"
  },
  "orig_nbformat": 4,
  "vscode": {
   "interpreter": {
    "hash": "bf7d6eba330418ccf72e0b1e51b9a393482b86c7d0f812a40e6604c9feadb536"
   }
  }
 },
 "nbformat": 4,
 "nbformat_minor": 2
}
