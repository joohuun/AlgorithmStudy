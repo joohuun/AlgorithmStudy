{
 "cells": [
  {
   "cell_type": "code",
   "execution_count": 2,
   "metadata": {},
   "outputs": [
    {
     "name": "stdout",
     "output_type": "stream",
     "text": [
      "최대값 66\n"
     ]
    }
   ],
   "source": [
    "# 최대값 찾기\n",
    "input = [3, 66, 6, 1, 2, 4]\n",
    "\n",
    "def find_max_num(array):\n",
    "    for num in array:\n",
    "        for compare_num in array:\n",
    "            if num < compare_num:\n",
    "                break\n",
    "        else:\n",
    "            return num\n",
    "\n",
    "\n",
    "result = find_max_num(input)\n",
    "print(f\"최대값\",result)"
   ]
  },
  {
   "cell_type": "code",
   "execution_count": 2,
   "metadata": {},
   "outputs": [
    {
     "name": "stdout",
     "output_type": "stream",
     "text": [
      "최대값 6\n"
     ]
    }
   ],
   "source": [
    "# 최대값 찾기\n",
    "input = [3, 5, 6, 1, 2, 4]\n",
    "\n",
    "def find_max_num(array):\n",
    "    max_num = array[0]\n",
    "    for num in array:\n",
    "        if num > max_num:\n",
    "            max_num = num\n",
    "    return max_num\n",
    "\n",
    "\n",
    "result = find_max_num(input)\n",
    "print(f\"최대값\", result)"
   ]
  },
  {
   "cell_type": "code",
   "execution_count": 11,
   "metadata": {},
   "outputs": [
    {
     "name": "stdout",
     "output_type": "stream",
     "text": [
      "[3, 0, 0, 0, 2, 0, 0, 1, 1, 0, 0, 2, 2, 1, 1, 1, 0, 1, 2, 1, 0, 0, 0, 0, 1, 0]\n",
      "hellod\n"
     ]
    }
   ],
   "source": [
    "# 알파뱃 빈도 찾기\n",
    "def find_alphabet_occurrence_array(string):\n",
    "    alphabet_occurrence_array = [0] * 26\n",
    "\n",
    "    for char in string:\n",
    "        if not char.isalpha():\n",
    "            continue\n",
    "        arr_index = ord(char) - ord(\"a\")\n",
    "        alphabet_occurrence_array[arr_index] += 1\n",
    "\n",
    "    return alphabet_occurrence_array\n",
    "\n",
    "\n",
    "print(find_alphabet_occurrence_array(\"hello my name is sparta\"))"
   ]
  },
  {
   "cell_type": "code",
   "execution_count": 1,
   "metadata": {},
   "outputs": [
    {
     "name": "stdout",
     "output_type": "stream",
     "text": [
      "a\n"
     ]
    }
   ],
   "source": [
    "# 알파뱃 최빈값 찾기1\n",
    "input = \"hello my name is sparta\"\n",
    "\n",
    "def find_max_occurred_alphabet(string):\n",
    "    alphabet_array = [\"a\", \"b\", \"c\", \"d\", \"e\", \"f\", \"g\", \"h\", \"i\", \"j\", \"k\", \"l\", \"m\", \n",
    "                      \"n\", \"o\", \"p\", \"q\", \"r\", \"s\", \"t\", \"u\", \"v\", \"w\", \"x\", \"y\",\"z\"]\n",
    "    \n",
    "    max_occurrence = 0\n",
    "    max_alphabet = alphabet_array[0]\n",
    "\n",
    "    # 이중 for문\n",
    "    # alphabet_array 안의 알파뱃을 1번째 for문 시작\n",
    "    for alphabet in alphabet_array:\n",
    "        occurrence = 0\n",
    "        # occurrence = 0 으로 시작해서 2번째 for문 시작 char == alphat 이면 occurrence 1씩 증가\n",
    "        for char in string:\n",
    "            if char == alphabet:\n",
    "                occurrence += 1\n",
    "                \n",
    "        if occurrence > max_occurrence:\n",
    "            max_occurrence = occurrence\n",
    "            max_alphabet = alphabet\n",
    "            \n",
    "    return max_alphabet\n",
    "\n",
    "\n",
    "result = find_max_occurred_alphabet(input)\n",
    "print(result)"
   ]
  },
  {
   "cell_type": "code",
   "execution_count": 1,
   "metadata": {},
   "outputs": [
    {
     "name": "stdout",
     "output_type": "stream",
     "text": [
      "a\n",
      "q\n"
     ]
    }
   ],
   "source": [
    "# 알파뱃 최빈값 찾기2\n",
    "def find_max_occurred_alphabet(string):\n",
    "    alphabet_occurrence_array = [0] * 26\n",
    "\n",
    "    for char in string:\n",
    "        if not char.isalpha():\n",
    "            continue\n",
    "        arr_index = ord(char) - ord(\"a\")\n",
    "        alphabet_occurrence_array[arr_index] += 1\n",
    "    \n",
    "    max_occureence = 0\n",
    "    max_alphabat_index = 0\n",
    "    for index in range(len(alphabet_occurrence_array)):\n",
    "        # index[0] -> alphabet_occurrence = 3\n",
    "        alphabet_occurrence = alphabet_occurrence_array[index]\n",
    "        if alphabet_occurrence > max_occureence:\n",
    "            max_occureence = alphabet_occurrence\n",
    "            max_alphabat_index = index\n",
    "        # print(index)\n",
    "    return chr(max_alphabat_index + ord('a'))\n",
    "\n",
    "result = find_max_occurred_alphabet\n",
    "print(result(\"hello my name is sparta\"))\n",
    "print(result(\"qq\"))"
   ]
  },
  {
   "cell_type": "markdown",
   "metadata": {},
   "source": []
  }
 ],
 "metadata": {
  "kernelspec": {
   "display_name": "Python 3.9.12 ('base')",
   "language": "python",
   "name": "python3"
  },
  "language_info": {
   "codemirror_mode": {
    "name": "ipython",
    "version": 3
   },
   "file_extension": ".py",
   "mimetype": "text/x-python",
   "name": "python",
   "nbconvert_exporter": "python",
   "pygments_lexer": "ipython3",
   "version": "3.9.12"
  },
  "orig_nbformat": 4,
  "vscode": {
   "interpreter": {
    "hash": "bf7d6eba330418ccf72e0b1e51b9a393482b86c7d0f812a40e6604c9feadb536"
   }
  }
 },
 "nbformat": 4,
 "nbformat_minor": 2
}
