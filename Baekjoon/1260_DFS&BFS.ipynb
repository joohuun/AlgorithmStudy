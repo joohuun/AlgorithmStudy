{
 "cells": [
  {
   "cell_type": "markdown",
   "metadata": {},
   "source": [
    "1260번 DFS & BFS\n",
    "- https://www.acmicpc.net/problem/1260\n",
    "\n",
    "문제\n",
    "- 그래프를 DFS로 탐색한 결과와 BFS로 탐색한 결과를 출력하는 프로그램을 작성하시오. 단, 방문할 수 있는 정점이 여러 개인 경우에는 정점 번호가 작은 것을 먼저 방문하고, 더 이상 방문할 수 있는 점이 없는 경우 종료한다. 정점 번호는 1번부터 N번까지이다.\n",
    "\n",
    "입력\n",
    "- 첫째 줄에 정점의 개수 N(1 ≤ N ≤ 1,000), 간선의 개수 M(1 ≤ M ≤ 10,000), 탐색을 시작할 정점의 번호 V가 주어진다. 다음 M개의 줄에는 간선이 연결하는 두 정점의 번호가 주어진다. 어떤 두 정점 사이에 여러 개의 간선이 있을 수 있다. 입력으로 주어지는 간선은 양방향이다.\n",
    "\n",
    "출력\n",
    "- 첫째 줄에 DFS를 수행한 결과를, 그 다음 줄에는 BFS를 수행한 결과를 출력한다. V부터 방문된 점을 순서대로 출력하면 된다.\n",
    "\n",
    "예제 입력 및 출력\n",
    "- 입력:   \n",
    "4 5 1   \n",
    "1 2   \n",
    "1 3    \n",
    "1 4   \n",
    "2 4    \n",
    "3 4    \n",
    "- 출력:    \n",
    "1 2 4 3   \n",
    "1 2 3 4   "
   ]
  },
  {
   "cell_type": "code",
   "execution_count": 45,
   "metadata": {},
   "outputs": [
    {
     "name": "stdout",
     "output_type": "stream",
     "text": [
      "1 2 4 3 \n",
      "1 2 3 4 "
     ]
    }
   ],
   "source": [
    "from collections import deque\n",
    "\n",
    "N, M, V = map(int, input().split())\n",
    "\n",
    "graph = [[False] * (N+1) for _ in range(N+1)] # 이차원 그래프 형태\n",
    "\n",
    "for _ in range(M):\n",
    "    a, b = map(int, input().split())\n",
    "    graph[a][b] = True\n",
    "    graph[b][a] = True\n",
    "\n",
    "dfs_visited = [False] * (N+1) # dfs의 방문기록\n",
    "bfs_visited = [False] * (N+1) # bfs의 방문기록\n",
    "\n",
    "# DFS 함수 정의\n",
    "def dfs(V):\n",
    "    dfs_visited[V] = True # 해당 V 값을 방문한것은 True 처리\n",
    "    print(V, end=' ')\n",
    "    for i in range(V, N+1):\n",
    "        if not dfs_visited[i] and graph[V][i]: # 만약 i값을 방문하지 않았고 V와 연결이 되어 있다면\n",
    "            dfs(i) # 해당 i 값으로 dfs를 재귀 호출로 다시 탐색한다.\n",
    "\n",
    "# BFS 함수 정의\n",
    "def bfs(V):\n",
    "    queue = deque([V]) # 내장 라이브러리 사용\n",
    "    bfs_visited[V] = True # 해당 V 값을 방문한것은 True 처리\n",
    "    while queue: # 큐가 빌때까지 반복\n",
    "        V = queue.popleft() # 큐에 있는 첫번째 값을 꺼낸다.\n",
    "        print(V, end=' ')\n",
    "        for i in range(1, N+1): # 1부터 N+1까지 돈다.\n",
    "            if not bfs_visited[i] and graph[V][i]: # 만약 i값을 방문하지 않았고 V와 연결이 되어 있다면\n",
    "                queue.append(i) # 큐에 해당 정점(i) 추가\n",
    "                bfs_visited[i] = True # 정점(i) 방문 처리\n",
    "                \n",
    "            \n",
    "dfs(V)\n",
    "print()\n",
    "bfs(V)"
   ]
  },
  {
   "cell_type": "code",
   "execution_count": 68,
   "metadata": {},
   "outputs": [
    {
     "name": "stdout",
     "output_type": "stream",
     "text": [
      "range(1, 3)\n",
      "[[0, 0, 0, 0], [0, 0, 0, 0], [0, 0, 0, 0], [0, 0, 0, 0]]\n",
      "0\n"
     ]
    }
   ],
   "source": [
    "n=3\n",
    "graph = [[0] * (n+1) for _ in range(n+1)]\n",
    "\n",
    "\n",
    "print(range(1, n))\n",
    "print(graph)\n",
    "print(graph[0][3])"
   ]
  },
  {
   "cell_type": "code",
   "execution_count": 70,
   "metadata": {},
   "outputs": [
    {
     "ename": "IndexError",
     "evalue": "list assignment index out of range",
     "output_type": "error",
     "traceback": [
      "\u001b[1;31m---------------------------------------------------------------------------\u001b[0m",
      "\u001b[1;31mIndexError\u001b[0m                                Traceback (most recent call last)",
      "\u001b[1;32md:\\code\\algorithm\\Baekjoon\\1260_DFS&BFS.ipynb 셀 4\u001b[0m in \u001b[0;36m<cell line: 29>\u001b[1;34m()\u001b[0m\n\u001b[0;32m     <a href='vscode-notebook-cell:/d%3A/code/algorithm/Baekjoon/1260_DFS%26BFS.ipynb#W6sZmlsZQ%3D%3D?line=25'>26</a>\u001b[0m         \u001b[39mif\u001b[39;00m \u001b[39mnot\u001b[39;00m dfs_visited[i] \u001b[39mand\u001b[39;00m graph[V][i]:\n\u001b[0;32m     <a href='vscode-notebook-cell:/d%3A/code/algorithm/Baekjoon/1260_DFS%26BFS.ipynb#W6sZmlsZQ%3D%3D?line=26'>27</a>\u001b[0m             dfs(i)\n\u001b[1;32m---> <a href='vscode-notebook-cell:/d%3A/code/algorithm/Baekjoon/1260_DFS%26BFS.ipynb#W6sZmlsZQ%3D%3D?line=28'>29</a>\u001b[0m dfs(V)\n",
      "\u001b[1;32md:\\code\\algorithm\\Baekjoon\\1260_DFS&BFS.ipynb 셀 4\u001b[0m in \u001b[0;36mdfs\u001b[1;34m(V)\u001b[0m\n\u001b[0;32m     <a href='vscode-notebook-cell:/d%3A/code/algorithm/Baekjoon/1260_DFS%26BFS.ipynb#W6sZmlsZQ%3D%3D?line=21'>22</a>\u001b[0m \u001b[39mdef\u001b[39;00m \u001b[39mdfs\u001b[39m(V):\n\u001b[1;32m---> <a href='vscode-notebook-cell:/d%3A/code/algorithm/Baekjoon/1260_DFS%26BFS.ipynb#W6sZmlsZQ%3D%3D?line=22'>23</a>\u001b[0m     dfs_visited[V] \u001b[39m=\u001b[39m \u001b[39m1\u001b[39m\n\u001b[0;32m     <a href='vscode-notebook-cell:/d%3A/code/algorithm/Baekjoon/1260_DFS%26BFS.ipynb#W6sZmlsZQ%3D%3D?line=23'>24</a>\u001b[0m     \u001b[39mprint\u001b[39m(V, end\u001b[39m=\u001b[39m\u001b[39m'\u001b[39m\u001b[39m \u001b[39m\u001b[39m'\u001b[39m)\n\u001b[0;32m     <a href='vscode-notebook-cell:/d%3A/code/algorithm/Baekjoon/1260_DFS%26BFS.ipynb#W6sZmlsZQ%3D%3D?line=24'>25</a>\u001b[0m     \u001b[39mfor\u001b[39;00m i \u001b[39min\u001b[39;00m \u001b[39mrange\u001b[39m(V, N\u001b[39m+\u001b[39m\u001b[39m1\u001b[39m):\n",
      "\u001b[1;31mIndexError\u001b[0m: list assignment index out of range"
     ]
    }
   ],
   "source": [
    "from collections import deque\n",
    "\n",
    "'''\n",
    "    N = 정점의 갯수\n",
    "    M = 정점을 잇는 변의 갯수\n",
    "    V = 시작 정점의 번호\n",
    "'''\n",
    "\n",
    "N, M, V = map(int, input().split())\n",
    "\n",
    "graph = [[False] * (N+1) for _ in range(N+1)] \n",
    "\n",
    "for i in range(M):\n",
    "    a, b = map(int, input().split())\n",
    "    # 양 방향 표시\n",
    "    graph[a][b] = 1\n",
    "    graph[a][b] = 1\n",
    "    \n",
    "dfs_visited = [] * (N+1)\n",
    "bfs_visited = [] * (N+1)\n",
    "\n",
    "def dfs(V):\n",
    "    dfs_visited[V] = 1\n",
    "    print(V, end=' ')\n",
    "    for i in range(V, N+1):\n",
    "        if not dfs_visited[i] and graph[V][i]:\n",
    "            dfs(i)\n",
    "\n",
    "dfs(V)\n",
    "            \n",
    "            \n",
    "    "
   ]
  }
 ],
 "metadata": {
  "kernelspec": {
   "display_name": "Python 3.9.12 ('base')",
   "language": "python",
   "name": "python3"
  },
  "language_info": {
   "codemirror_mode": {
    "name": "ipython",
    "version": 3
   },
   "file_extension": ".py",
   "mimetype": "text/x-python",
   "name": "python",
   "nbconvert_exporter": "python",
   "pygments_lexer": "ipython3",
   "version": "3.9.12"
  },
  "orig_nbformat": 4,
  "vscode": {
   "interpreter": {
    "hash": "bf7d6eba330418ccf72e0b1e51b9a393482b86c7d0f812a40e6604c9feadb536"
   }
  }
 },
 "nbformat": 4,
 "nbformat_minor": 2
}
