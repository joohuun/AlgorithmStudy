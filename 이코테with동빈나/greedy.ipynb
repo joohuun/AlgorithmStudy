{
 "cells": [
  {
   "cell_type": "markdown",
   "metadata": {},
   "source": [
    "### 탐욕 알고리즘이란❓(Greedy Algorithm)\n",
    "- 선택의 순간마다 당장 눈앞에 보이는 최적의 상황만을  쫓아 최종적인 해답에 도달하는 방법이다.\n",
    "- 최적해를 구하는 데에 사용되는 근사적인 방법이다.\n",
    "- 여러 경우 중 하나를 결정해야 할 때마다 그순간에 최적이라고 생각되는 것을 선택해 나가는 방식으로 진행하여 최종적인 해답에 도달한다.\n",
    "- 순간마다 하는 선택은 그 순간에 대해 지역적으로는 최적이지만, 그 선택들을 계속 수집하여 최종적(전역적)인 해답을 만들었다고 해서, 그것이 최적이라는 보장은 없다.\n",
    "\n",
    "### 어떤 경우에 잘 작동 하는가❓\n",
    "<U>탐욕 선택 속성(greedy choice property)</U>, <U>최적 부분 구조(optional substructure)</U> 두 가지 특성을 가지는 문제들을 해결하는데 강점이 있다. 즉, 한번의 선택이 다음 선택에는 전혀 무관한 값이어야 하며 매 순간의 최적해가 문제에 대한 최적해여야 한다는 의미이다.\n",
    "\n",
    "- 탐욕 선택 속성: 앞의 선택이 이후의 선택에 영향을 주지 않는다.   \n",
    "- 최적 부분 구조: 문제에 대한 최종 해결 방법은 부분 문제에 대한 최적 문제 해결 방법으로 구성된다.\n",
    "\n",
    "\n"
   ]
  },
  {
   "cell_type": "markdown",
   "metadata": {},
   "source": [
    "### <문제> 거스름돈   \n",
    "문제 설명\n",
    "> 당신은 음식점의 계산을 도와주는 점원입니다. 카운터에는 거스름돈으로 사용할 500원, 100원, 50원,  10원짜리 동전이 무한히 존재한다고 가정합니다. 손님에게 거슬러 주어야 할 돈이 N원일 때 거슬러 주어야 할 동전의 최소 개수를 구하세요. 단, 거슬러 줘야 할 돈 N은 항상 10의 배수입니다.   \n",
    "\n",
    "문제 해결 아이디어\n",
    ">- 최적의 해를 빠르게 구하기 위해서는 가장 큰 화폐 단위부터 돈을 거슬러 준다.   \n",
    ">- N원을 거슬러 줘야 할 때, 가장 먼저 500원으로 거슬러 줄 수 있을 만큼 거슬러 준다.\n",
    ">- 이후 100원, 50원, 10원 순으로 거슬러 준다."
   ]
  },
  {
   "cell_type": "code",
   "execution_count": null,
   "metadata": {},
   "outputs": [],
   "source": [
    "# n = int(input())\n",
    "n = 1260\n",
    "count = 0\n",
    "\n",
    "arr = [500, 100, 50, 10]\n",
    "\n",
    "for coin in arr: # step1. 배열의 가장앞 500원 부터 시작하여 100 -> 50 -> 10 순으로 진행 \n",
    "    count += n // coin # step2. count += 1260//500 = 2\n",
    "    n %= coin # step3. n = 260원이 되고 다시 1단계로 가서 반복\n",
    "\n",
    "print(count)\n",
    "    "
   ]
  },
  {
   "cell_type": "markdown",
   "metadata": {},
   "source": [
    "### <문제> 1이 될 때까지  \n",
    "문제 설명\n",
    ">- 어떠한 수 N이 1이 될 때까지 다음의 두 과정 중 하나를 반복적으로 선택하여 수행하려고 합니다. <U>단, 두 번째 연산은 N이 K로 나누어 떨어질 때만 선택할 수 있습니다.</U>\n",
    "> 1. N에서 1을 뺍니다.\n",
    "> 2. N을 K로 나눕니다.   \n",
    ">\n",
    ">- 예를 들어 N이 17, K가 4라고 가정합시다. 이때 1번의 과정을 한 번 수행하면 N은 16이 됩니다. 이후에 2번의 과정을 두번 수행하면 N은 1이 됩니다. 결과적으로 이 경우 전체 과정을 실행한 횟수는 3이 됩니다. 이는 N을 1로 만드는 최소 횟수 입니다.\n",
    ">\n",
    ">- N과 K가 주어질 때 N이 1일 될 때까지 1번 혹은 2번의 과정을 수행해야 하는 최소 횟수를 구하는 프로그램을 작성하시오.\n",
    "\n",
    "문제 해결 아이디어\n",
    ">- 주어진 N에 대하여 최대한 많이 나누기를 수행\n",
    ">\n",
    ">- N의 값을 줄일 때 2 이상의 수로 나누는 작업이 1을 빼는 작업보다 수를 훨씬 많이 줄일 수 있습니다.\n",
    ">\n",
    ">- K가 2 이상기만 하면, K로 나누는 것이 1을 빼는것 보다 항상 빠르게 N을 줄일 수 있습니다.\n",
    ">\n",
    ">- 또한 N은 항상 1에 도달하게 됩니다."
   ]
  },
  {
   "cell_type": "markdown",
   "metadata": {},
   "source": []
  },
  {
   "cell_type": "code",
   "execution_count": null,
   "metadata": {},
   "outputs": [],
   "source": [
    "n, k = map(int, input().split())\n",
    "\n",
    "result = 0\n",
    "\n",
    "while True:\n",
    "    target = (n//k)*k # step1. n이 k로 나누어 떨어지는 수로 바꿔주기\n",
    "    result += (n-target) # step2. 1을 빼는 과정이 몇번 일어났는지 더해주기\n",
    "    n = target\n",
    "    if n < k: # step3. 더이상 나눌수 없을때 반복문 탈출\n",
    "        break\n",
    "    else:\n",
    "        n //= k\n",
    "        result += 1 # setp4. n을 k로 나누는 연산 1회 더해주기\n",
    "\n",
    "result += (n-1) # 마지막으로 남은 수에 대하여 1씩 빼기\n",
    "print(result) "
   ]
  },
  {
   "cell_type": "code",
   "execution_count": null,
   "metadata": {},
   "outputs": [],
   "source": [
    "n, k = map(int, input().split())\n",
    "\n",
    "result = 0\n",
    "\n",
    "while n >= k:\n",
    "    while n%k != 0:\n",
    "        n -= 1\n",
    "        result += 1\n",
    "    n //= k\n",
    "    result += 1\n",
    "\n",
    "result += (n-1)\n",
    "print(result)"
   ]
  },
  {
   "cell_type": "markdown",
   "metadata": {},
   "source": [
    "### <문제> 모험가 길드\n",
    "문제 설명\n",
    ">- 한 마을에 모험가 N명 있습니다. 모험가 길드에서는 N명의 모험가를 대상으로 '공포도'를 측정했는데, '공포도'가 높은 모험가는 쉽게 공포를 느껴 위험 상황에서 제대로 대처할 능력이 떨어집니다.\n",
    ">\n",
    ">- 모험가 길드장인 동빈이는 그룹을 안전하게 구성하고자 <U>공포도가 X인 모험가는 반드시 X명 이상으로 구성한 모험가 그룹에 참여</U>해야 여행을 떠날 수 있도록 규정했습니다.\n",
    ">\n",
    ">- 동빈이는 최대 몇 개의 모험가 그룹을 만들 수 있는지 궁급합니다. N명의 모험가에 대한 정보가 주어졌을때, **여행을 떠날 수 있는 그룹 수의 최대값**을 구하는 프로그램을 작성하세요.\n",
    ">\n",
    ">- 예를 들어 N=5이고, 각 모험가의 공포도는 다음과 같습니다.   \n",
    "> [2 3 1 2 2]\n",
    ">\n",
    ">- 이 경우 그룹1에 공포도가 1, 2, 3인 모험가를 한 명씩 넣고, 그룹 2에 공포도가 2인 남은 두명을 넣게 되면 총 2개의 그룹을 만들 수 있습니다.\n",
    ">\n",
    ">- 또한 몇 명읠 모험가는 마을에 그대로 남아 있어도 되기 떄문에, 모든 모험가를 특정한 그룹에 넣을 필요는 없습니다.\n",
    "\n",
    "문제 해결 아이디어\n",
    ">- 공포도를 오름차순으로 정렬하여 낮은 모험가부터 하나씩 확인합니다.\n",
    ">\n",
    ">- 앞에서부터 공포도를 하나씩 확인하며 <U>'현재 그룹에 포함된 모험가 수'가 '현재 확인하고 있는 공포도' 보다 크거나 같다면 이를 그룹으로 설정</U>하면 됩니다.\n",
    ">\n",
    ">- 공포도를 오름차순으로 정렬되어 있다는 점에서 항상 최소한의 모험가의 수만 포함하여 그룹을 결성합니다."
   ]
  },
  {
   "cell_type": "code",
   "execution_count": 2,
   "metadata": {},
   "outputs": [
    {
     "name": "stdout",
     "output_type": "stream",
     "text": [
      "2\n"
     ]
    }
   ],
   "source": [
    "n = int(input()) # 모험가 수\n",
    "data = list(map(int, input().split()))\n",
    "data.sort()\n",
    "\n",
    "result = 0 # 총 그룹의 수\n",
    "count = 0 # 현재 그룹에 포함된 모험가의 수\n",
    "\n",
    "for i in data:\n",
    "    count += 1 # 현재 그룹에 해당 모험가 포함시키기\n",
    "    if count >= i: # 만약 모험가수가 공포도 이상이라면, 그룹 결성\n",
    "        result += 1\n",
    "        count = 0 # 현재 그룹에 포함된 모험가의 수 초기화\n",
    "        \n",
    "print(result) # 총 그룹수"
   ]
  },
  {
   "cell_type": "code",
   "execution_count": null,
   "metadata": {},
   "outputs": [],
   "source": [
    "# sorted\n",
    "list = [4, 3, 6, 1, 7]\n",
    "a = sorted(list)\n",
    "print(a)\n",
    "\n",
    "# sort\n",
    "list = [4, 3, 6, 1, 8]\n",
    "list.sort()\n",
    "print(list)"
   ]
  }
 ],
 "metadata": {
  "kernelspec": {
   "display_name": "Python 3.9.12 ('base')",
   "language": "python",
   "name": "python3"
  },
  "language_info": {
   "codemirror_mode": {
    "name": "ipython",
    "version": 3
   },
   "file_extension": ".py",
   "mimetype": "text/x-python",
   "name": "python",
   "nbconvert_exporter": "python",
   "pygments_lexer": "ipython3",
   "version": "3.9.12"
  },
  "orig_nbformat": 4,
  "vscode": {
   "interpreter": {
    "hash": "bf7d6eba330418ccf72e0b1e51b9a393482b86c7d0f812a40e6604c9feadb536"
   }
  }
 },
 "nbformat": 4,
 "nbformat_minor": 2
}
