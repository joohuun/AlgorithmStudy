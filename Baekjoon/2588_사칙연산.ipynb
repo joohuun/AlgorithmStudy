{
 "cells": [
  {
   "cell_type": "markdown",
   "metadata": {},
   "source": [
    "2588번 사칙연산\n",
    "- https://www.acmicpc.net/problem/2588\n",
    "\n",
    "문제\n",
    "- (세자리수)x(세자리수)는 다음과 같은 가정을 통하여 이루어진다.\n",
    "\n",
    "    ![](./2588.png)                    \n",
    "\n",
    "- (1)과 (2)위치에 들어갈 세 자리 자연수가 주어질 때 (3),(4),(5),(6)위치에 들어갈 값을 구하는 프로그램을 작성하시오.\n",
    "\n",
    "입력\n",
    "- 첫째 줄에 (1)의 위치에 들어갈  세 자리 자연수가, 둘째 줄에 (2)의 위치에 들어갈 세자리 자연수가 주어진다.\n",
    "\n",
    "출력\n",
    "- 첫째 줄부투 넷째 줄까지 차례대로 (3),(4),(5),(6)에 들어갈 값을 출력한다.\n",
    "\n",
    "예제 입력 및 출력\n",
    "- 입력: 472, 385\n",
    "- 출력: 2360, 3776, 1416, 181720"
   ]
  },
  {
   "cell_type": "code",
   "execution_count": 25,
   "metadata": {},
   "outputs": [
    {
     "name": "stdout",
     "output_type": "stream",
     "text": [
      "2360 3776 1416 181720\n"
     ]
    }
   ],
   "source": [
    "# 1번 풀이\n",
    "a = int(input())  # 첫번째 입력받은 문자: 숫자로 변환\n",
    "b = input()       # 두번쨰 입력받은 문자: 문자열 그대로둠\n",
    "\n",
    "# 문자열의 인덱스를 이용해서 두번째 입력받은 문자를 하나씩 숫자로 반환하고 A 와 곱한다.\n",
    "axb2 = a * int(b[2])\n",
    "axb1 = a * int(b[1])\n",
    "axb0 = a * int(b[0])\n",
    "axb = a * int(b)\n",
    "\n",
    "print(axb2, axb1, axb0, axb)"
   ]
  },
  {
   "cell_type": "code",
   "execution_count": 53,
   "metadata": {},
   "outputs": [
    {
     "name": "stdout",
     "output_type": "stream",
     "text": [
      "2360\n",
      "181720\n",
      "3776\n",
      "181720\n",
      "1416\n",
      "181720\n"
     ]
    }
   ],
   "source": [
    "# 2번 풀이\n",
    "a = int(input())    # 472\n",
    "b = input()         # '385'\n",
    "\n",
    "# print(list(range(len(b),0,-1)))\n",
    "for i in range(len(b), 0, -1):\n",
    "    print(a * int(b[i-1]))\n",
    "    print(a * int(b))"
   ]
  }
 ],
 "metadata": {
  "kernelspec": {
   "display_name": "Python 3.9.12 ('base')",
   "language": "python",
   "name": "python3"
  },
  "language_info": {
   "codemirror_mode": {
    "name": "ipython",
    "version": 3
   },
   "file_extension": ".py",
   "mimetype": "text/x-python",
   "name": "python",
   "nbconvert_exporter": "python",
   "pygments_lexer": "ipython3",
   "version": "3.9.12"
  },
  "orig_nbformat": 4,
  "vscode": {
   "interpreter": {
    "hash": "bf7d6eba330418ccf72e0b1e51b9a393482b86c7d0f812a40e6604c9feadb536"
   }
  }
 },
 "nbformat": 4,
 "nbformat_minor": 2
}
